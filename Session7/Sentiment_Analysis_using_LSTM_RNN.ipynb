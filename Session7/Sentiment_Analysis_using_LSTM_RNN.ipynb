{
  "nbformat": 4,
  "nbformat_minor": 0,
  "metadata": {
    "colab": {
      "name": "Sentiment Analysis using LSTM RNN.ipynb",
      "provenance": [],
      "collapsed_sections": [],
      "include_colab_link": true
    },
    "kernelspec": {
      "name": "python3",
      "display_name": "Python 3"
    },
    "accelerator": "GPU"
  },
  "cells": [
    {
      "cell_type": "markdown",
      "metadata": {
        "id": "view-in-github",
        "colab_type": "text"
      },
      "source": [
        "<a href=\"https://colab.research.google.com/github/bikash-bhoi/END_NLP_P1/blob/main/Session7/Sentiment_Analysis_using_LSTM_RNN.ipynb\" target=\"_parent\"><img src=\"https://colab.research.google.com/assets/colab-badge.svg\" alt=\"Open In Colab\"/></a>"
      ]
    },
    {
      "cell_type": "markdown",
      "metadata": {
        "id": "GYiRsFGD6iUC"
      },
      "source": [
        "# 0 TorchText"
      ]
    },
    {
      "cell_type": "code",
      "metadata": {
        "colab": {
          "base_uri": "https://localhost:8080/"
        },
        "id": "zWIOADP9gKhY",
        "outputId": "2a44599c-1470-4211-8a69-7d53d02a0feb"
      },
      "source": [
        "!nvidia-smi"
      ],
      "execution_count": 2,
      "outputs": [
        {
          "output_type": "stream",
          "text": [
            "Thu Dec 10 18:21:25 2020       \n",
            "+-----------------------------------------------------------------------------+\n",
            "| NVIDIA-SMI 455.45.01    Driver Version: 418.67       CUDA Version: 10.1     |\n",
            "|-------------------------------+----------------------+----------------------+\n",
            "| GPU  Name        Persistence-M| Bus-Id        Disp.A | Volatile Uncorr. ECC |\n",
            "| Fan  Temp  Perf  Pwr:Usage/Cap|         Memory-Usage | GPU-Util  Compute M. |\n",
            "|                               |                      |               MIG M. |\n",
            "|===============================+======================+======================|\n",
            "|   0  Tesla P4            Off  | 00000000:00:04.0 Off |                    0 |\n",
            "| N/A   40C    P8     8W /  75W |      0MiB /  7611MiB |      0%      Default |\n",
            "|                               |                      |                 ERR! |\n",
            "+-------------------------------+----------------------+----------------------+\n",
            "                                                                               \n",
            "+-----------------------------------------------------------------------------+\n",
            "| Processes:                                                                  |\n",
            "|  GPU   GI   CI        PID   Type   Process name                  GPU Memory |\n",
            "|        ID   ID                                                   Usage      |\n",
            "|=============================================================================|\n",
            "|  No running processes found                                                 |\n",
            "+-----------------------------------------------------------------------------+\n"
          ],
          "name": "stdout"
        }
      ]
    },
    {
      "cell_type": "code",
      "metadata": {
        "id": "eI9fQjoLB0CR"
      },
      "source": [
        "!pip install pytreebank googletrans==3.1.0a0"
      ],
      "execution_count": null,
      "outputs": []
    },
    {
      "cell_type": "code",
      "metadata": {
        "id": "ipegPn04Fh53"
      },
      "source": [
        "!mkdir sentimentData\r\n",
        "!mv *.* sentimentData"
      ],
      "execution_count": null,
      "outputs": []
    },
    {
      "cell_type": "code",
      "metadata": {
        "id": "W4Gh2P4GFZFw"
      },
      "source": [
        "import pytreebank\r\n",
        "dataset = pytreebank.load_sst(\"/content/sentimentData\")"
      ],
      "execution_count": null,
      "outputs": []
    },
    {
      "cell_type": "code",
      "metadata": {
        "id": "AXeBjh4B9qjr"
      },
      "source": [
        "for category in [\"train\", \"test\", \"dev\"]:\r\n",
        "    with open(\"sst_{}.txt\".format(category), \"w\") as outfile:\r\n",
        "        for item in dataset[category]:\r\n",
        "            outfile.write(\r\n",
        "                \"{}\\t{}\\n\".format(\r\n",
        "                    item.to_labeled_lines()[0][0] + 1, item.to_labeled_lines()[0][1]\r\n",
        "                )\r\n",
        "            )"
      ],
      "execution_count": null,
      "outputs": []
    },
    {
      "cell_type": "code",
      "metadata": {
        "colab": {
          "base_uri": "https://localhost:8080/"
        },
        "id": "abBIKS3vAQNz",
        "outputId": "798af4f5-71b9-4f33-eaa3-f497f1478bf3"
      },
      "source": [
        "!wc -l sst_test.txt\r\n",
        "!wc -l sst_train.txt"
      ],
      "execution_count": 5,
      "outputs": [
        {
          "output_type": "stream",
          "text": [
            "2210 sst_test.txt\n",
            "8544 sst_train.txt\n"
          ],
          "name": "stdout"
        }
      ]
    },
    {
      "cell_type": "markdown",
      "metadata": {
        "id": "tp5IzBGsPGHs"
      },
      "source": [
        "## Dataset Preview and Augmentation\n",
        "\n",
        "Your first step to deep learning in NLP. We will be mostly using PyTorch. Just like torchvision, PyTorch provides an official library, torchtext, for handling text-processing pipelines. \n",
        "\n",
        "We will be using previous session tweet dataset. Let's just preview the dataset."
      ]
    },
    {
      "cell_type": "code",
      "metadata": {
        "id": "o1-Yz-5RRFYc"
      },
      "source": [
        "import pandas as pd\n",
        "train_df = pd.read_csv('sst_train.txt', sep='\\t', names=['label', 'review'], converters = {1:str} )\n",
        "test_df = pd.read_csv('sst_test.txt', sep='\\t', names=['label', 'review'], converters = {1:str} )"
      ],
      "execution_count": 6,
      "outputs": []
    },
    {
      "cell_type": "code",
      "metadata": {
        "id": "Mphs9VJv3tmZ"
      },
      "source": [
        "df = pd.read_csv('sst_train.txt', sep='\\t', names=['label', 'review'], converters = {1:str} )\r\n",
        "df2 = pd.read_csv('sst_test.txt', sep='\\t', names=['label', 'review'], converters = {1:str} )\r\n",
        "df = df.append(df2)"
      ],
      "execution_count": 7,
      "outputs": []
    },
    {
      "cell_type": "code",
      "metadata": {
        "id": "gPsPodZp34bZ"
      },
      "source": [
        "from sklearn.model_selection import train_test_split\r\n",
        "train_df, test_df = train_test_split(df, test_size=0.2, random_state=32, shuffle= True)"
      ],
      "execution_count": 8,
      "outputs": []
    },
    {
      "cell_type": "code",
      "metadata": {
        "id": "tjqBm7rogQqg"
      },
      "source": [
        "from textaugment import back_translate, random_deletion, random_swap"
      ],
      "execution_count": 9,
      "outputs": []
    },
    {
      "cell_type": "code",
      "metadata": {
        "colab": {
          "base_uri": "https://localhost:8080/"
        },
        "id": "wtOlgiA9gtDo",
        "outputId": "84c3117a-2101-43e9-98ca-443b5106eb6a"
      },
      "source": [
        "#Add back translate on 3% of train data\r\n",
        "df_percent = train_df.sample(frac=0.03)\r\n",
        "print(df_percent.shape, train_df.shape)\r\n",
        "df_percent['review'] =  df_percent['review'].apply(back_translate)\r\n",
        "train_df = train_df.append(df_percent)\r\n",
        "train_df.shape"
      ],
      "execution_count": 10,
      "outputs": [
        {
          "output_type": "stream",
          "text": [
            "(258, 2) (8603, 2)\n"
          ],
          "name": "stdout"
        },
        {
          "output_type": "execute_result",
          "data": {
            "text/plain": [
              "(8861, 2)"
            ]
          },
          "metadata": {
            "tags": []
          },
          "execution_count": 10
        }
      ]
    },
    {
      "cell_type": "code",
      "metadata": {
        "colab": {
          "base_uri": "https://localhost:8080/"
        },
        "id": "8YLDPzVks70l",
        "outputId": "e0cb0bcd-bbed-47b9-cced-f6f419f77784"
      },
      "source": [
        "#Add random deletion on 40% of train data\r\n",
        "df_percent = train_df.sample(frac=0.4)\r\n",
        "print(df_percent.shape, train_df.shape)\r\n",
        "df_percent['review'] =  df_percent['review'].apply(random_deletion)\r\n",
        "train_df = train_df.append(df_percent)\r\n",
        "train_df.shape"
      ],
      "execution_count": 11,
      "outputs": [
        {
          "output_type": "stream",
          "text": [
            "(3544, 2) (8861, 2)\n"
          ],
          "name": "stdout"
        },
        {
          "output_type": "execute_result",
          "data": {
            "text/plain": [
              "(12405, 2)"
            ]
          },
          "metadata": {
            "tags": []
          },
          "execution_count": 11
        }
      ]
    },
    {
      "cell_type": "code",
      "metadata": {
        "colab": {
          "base_uri": "https://localhost:8080/"
        },
        "id": "5h4O926gwOyF",
        "outputId": "af4c3bf2-82f0-4ccd-90c1-a7cfab7fbf90"
      },
      "source": [
        "#Add random swap on 40% of train data\r\n",
        "df_percent = train_df.sample(frac=0.4)\r\n",
        "print(df_percent.shape, train_df.shape)\r\n",
        "df_percent['review'] =  df_percent['review'].apply(random_swap)\r\n",
        "train_df = train_df.append(df_percent)\r\n",
        "train_df.shape"
      ],
      "execution_count": 15,
      "outputs": [
        {
          "output_type": "stream",
          "text": [
            "(6947, 2) (17367, 2)\n"
          ],
          "name": "stdout"
        },
        {
          "output_type": "execute_result",
          "data": {
            "text/plain": [
              "(24314, 2)"
            ]
          },
          "metadata": {
            "tags": []
          },
          "execution_count": 15
        }
      ]
    },
    {
      "cell_type": "code",
      "metadata": {
        "id": "R7JdpCW-YbAG",
        "colab": {
          "base_uri": "https://localhost:8080/"
        },
        "outputId": "ab005709-fb43-4b6f-b9d6-ea64fef5a849"
      },
      "source": [
        "train_df.shape, test_df.shape"
      ],
      "execution_count": 16,
      "outputs": [
        {
          "output_type": "execute_result",
          "data": {
            "text/plain": [
              "((24314, 2), (2151, 2))"
            ]
          },
          "metadata": {
            "tags": []
          },
          "execution_count": 16
        }
      ]
    },
    {
      "cell_type": "code",
      "metadata": {
        "id": "zqRsoF6xYdgl",
        "colab": {
          "base_uri": "https://localhost:8080/"
        },
        "outputId": "9b8d1547-2b50-4282-9199-93916b3861e0"
      },
      "source": [
        "print(train_df.label.value_counts())\r\n",
        "print(test_df.label.value_counts())"
      ],
      "execution_count": 17,
      "outputs": [
        {
          "output_type": "stream",
          "text": [
            "4    6461\n",
            "2    6348\n",
            "3    4546\n",
            "5    3904\n",
            "1    3055\n",
            "Name: label, dtype: int64\n",
            "2    584\n",
            "4    568\n",
            "3    386\n",
            "5    323\n",
            "1    290\n",
            "Name: label, dtype: int64\n"
          ],
          "name": "stdout"
        }
      ]
    },
    {
      "cell_type": "markdown",
      "metadata": {
        "id": "XJ6o_79ISSVb"
      },
      "source": [
        "## Defining Fields"
      ]
    },
    {
      "cell_type": "markdown",
      "metadata": {
        "id": "e63g08ijOrf7"
      },
      "source": [
        "Now we shall be defining LABEL as a LabelField, which is a subclass of Field that sets sequen tial to False (as it’s our numerical category class). TWEET is a standard Field object, where we have decided to use the spaCy tokenizer and convert all the text to lower‐ case."
      ]
    },
    {
      "cell_type": "code",
      "metadata": {
        "id": "qk8IP4SK1Lrp",
        "colab": {
          "base_uri": "https://localhost:8080/"
        },
        "outputId": "35744d6a-92bf-4021-fbf2-0d1d4f4e1123"
      },
      "source": [
        "# Import Library\n",
        "import random\n",
        "import torch, torchtext\n",
        "from torchtext import data \n",
        "\n",
        "# Manual Seed\n",
        "SEED = 43\n",
        "torch.manual_seed(SEED)"
      ],
      "execution_count": 18,
      "outputs": [
        {
          "output_type": "execute_result",
          "data": {
            "text/plain": [
              "<torch._C.Generator at 0x7f91b997d948>"
            ]
          },
          "metadata": {
            "tags": []
          },
          "execution_count": 18
        }
      ]
    },
    {
      "cell_type": "code",
      "metadata": {
        "id": "u6bKQax2Mf_U"
      },
      "source": [
        "Review = data.Field(sequential = True, tokenize = 'spacy', batch_first =True, include_lengths=True)\n",
        "Label = data.LabelField(tokenize ='spacy', is_target=True, batch_first =True, sequential =False)"
      ],
      "execution_count": 19,
      "outputs": []
    },
    {
      "cell_type": "markdown",
      "metadata": {
        "id": "mX-lYIe_O7Vy"
      },
      "source": [
        "Having defined those fields, we now need to produce a list that maps them onto the list of rows that are in the CSV:"
      ]
    },
    {
      "cell_type": "code",
      "metadata": {
        "id": "VawdWq36O6td"
      },
      "source": [
        "fields = [('review', Review),('labels',Label)]"
      ],
      "execution_count": 20,
      "outputs": []
    },
    {
      "cell_type": "markdown",
      "metadata": {
        "id": "ZbtZ-Ph2P1xL"
      },
      "source": [
        "Armed with our declared fields, lets convert from pandas to list to torchtext. We could also use TabularDataset to apply that definition to the CSV directly but showing an alternative approach too."
      ]
    },
    {
      "cell_type": "code",
      "metadata": {
        "id": "L3OLcJ5B7rHz",
        "colab": {
          "base_uri": "https://localhost:8080/"
        },
        "outputId": "548b9362-faff-4a5f-8d1d-fea81aca66cc"
      },
      "source": [
        "train_example = [data.Example.fromlist([train_df.review.iloc[i],train_df.label.iloc[i]], fields) for i in range(train_df.shape[0])] \r\n",
        "test_example = [data.Example.fromlist([test_df.review.iloc[i],test_df.label.iloc[i]], fields) for i in range(test_df.shape[0])] \r\n",
        "len(train_example), len(test_example)"
      ],
      "execution_count": 22,
      "outputs": [
        {
          "output_type": "execute_result",
          "data": {
            "text/plain": [
              "(24314, 2151)"
            ]
          },
          "metadata": {
            "tags": []
          },
          "execution_count": 22
        }
      ]
    },
    {
      "cell_type": "code",
      "metadata": {
        "id": "nT-flpH-P1cd"
      },
      "source": [
        "# Creating dataset\n",
        "#twitterDataset = data.TabularDataset(path=\"tweets.csv\", format=\"CSV\", fields=fields, skip_header=True)\n",
        "\n",
        "train = data.Dataset(train_example, fields)\n",
        "test = data.Dataset(test_example, fields)"
      ],
      "execution_count": 23,
      "outputs": []
    },
    {
      "cell_type": "code",
      "metadata": {
        "id": "ykvsCGQMR6UD",
        "colab": {
          "base_uri": "https://localhost:8080/"
        },
        "outputId": "0042b19f-0717-4d27-c49e-697008e58a4a"
      },
      "source": [
        "(len(train), len(test))"
      ],
      "execution_count": 24,
      "outputs": [
        {
          "output_type": "execute_result",
          "data": {
            "text/plain": [
              "(24314, 2151)"
            ]
          },
          "metadata": {
            "tags": []
          },
          "execution_count": 24
        }
      ]
    },
    {
      "cell_type": "markdown",
      "metadata": {
        "id": "kix8P2IKSBaV"
      },
      "source": [
        "An example from the dataset:"
      ]
    },
    {
      "cell_type": "code",
      "metadata": {
        "id": "dUpEOQruR9JL",
        "colab": {
          "base_uri": "https://localhost:8080/"
        },
        "outputId": "2fd9632e-fa48-451d-a46a-8b8b416a49ee"
      },
      "source": [
        "vars(train.examples[10])"
      ],
      "execution_count": 25,
      "outputs": [
        {
          "output_type": "execute_result",
          "data": {
            "text/plain": [
              "{'labels': 1,\n",
              " 'review': ['At', 'times', ',', 'it', 'actually', 'hurts', 'to', 'watch', '.']}"
            ]
          },
          "metadata": {
            "tags": []
          },
          "execution_count": 25
        }
      ]
    },
    {
      "cell_type": "markdown",
      "metadata": {
        "id": "AKdllP3FST4N"
      },
      "source": [
        "## Building Vocabulary"
      ]
    },
    {
      "cell_type": "markdown",
      "metadata": {
        "id": "SuvWQ-SpSmSz"
      },
      "source": [
        "At this point we would have built a one-hot encoding of each word that is present in the dataset—a rather tedious process. Thankfully, torchtext will do this for us, and will also allow a max_size parameter to be passed in to limit the vocabu‐ lary to the most common words. This is normally done to prevent the construction of a huge, memory-hungry model. We don’t want our GPUs too overwhelmed, after all. \n",
        "\n",
        "Let’s limit the vocabulary to a maximum of 5000 words in our training set:\n"
      ]
    },
    {
      "cell_type": "code",
      "metadata": {
        "id": "mx955u93SGeY"
      },
      "source": [
        "Review.build_vocab(train)\n",
        "Label.build_vocab(train)"
      ],
      "execution_count": 26,
      "outputs": []
    },
    {
      "cell_type": "markdown",
      "metadata": {
        "id": "xvyEeEjXTGhX"
      },
      "source": [
        "By default, torchtext will add two more special tokens, <unk> for unknown words and <pad>, a padding token that will be used to pad all our text to roughly the same size to help with efficient batching on the GPU."
      ]
    },
    {
      "cell_type": "code",
      "metadata": {
        "id": "rA3tIESdcJdN",
        "colab": {
          "base_uri": "https://localhost:8080/"
        },
        "outputId": "17bd02b2-289e-4dd9-d82d-72e657fb8b6f"
      },
      "source": [
        "print('Size of input vocab : ', len(Review.vocab))\n",
        "print('Size of label vocab : ', len(Label.vocab))\n",
        "print('Top 10 words appreared repeatedly :', list(Review.vocab.freqs.most_common(10)))\n",
        "print('Labels : ', Label.vocab.stoi)"
      ],
      "execution_count": 27,
      "outputs": [
        {
          "output_type": "stream",
          "text": [
            "Size of input vocab :  17767\n",
            "Size of label vocab :  5\n",
            "Top 10 words appreared repeatedly : [('.', 21332), (',', 19320), ('the', 15996), ('and', 11893), ('of', 11690), ('a', 11614), ('to', 8190), ('-', 7288), (\"'s\", 6738), ('is', 6628)]\n",
            "Labels :  defaultdict(<function _default_unk_index at 0x7f916c543158>, {4: 0, 2: 1, 3: 2, 5: 3, 1: 4})\n"
          ],
          "name": "stdout"
        }
      ]
    },
    {
      "cell_type": "markdown",
      "metadata": {
        "id": "rwjD2-ebTeUX"
      },
      "source": [
        "**Lots of stopwords!!**"
      ]
    },
    {
      "cell_type": "markdown",
      "metadata": {
        "id": "sLWW221gTpNs"
      },
      "source": [
        "Now we need to create a data loader to feed into our training loop. Torchtext provides the BucketIterator method that will produce what it calls a Batch, which is almost, but not quite, like the data loader we used on images."
      ]
    },
    {
      "cell_type": "markdown",
      "metadata": {
        "id": "EQqMhMoDUDmn"
      },
      "source": [
        "But at first declare the device we are using."
      ]
    },
    {
      "cell_type": "code",
      "metadata": {
        "id": "Zfo2QhGJUK4l",
        "colab": {
          "base_uri": "https://localhost:8080/"
        },
        "outputId": "1a4c6c7e-8270-4140-b2c0-cbb279df5fa9"
      },
      "source": [
        "device = torch.device(\"cuda\" if torch.cuda.is_available() else \"cpu\")\r\n",
        "device"
      ],
      "execution_count": 28,
      "outputs": [
        {
          "output_type": "execute_result",
          "data": {
            "text/plain": [
              "device(type='cuda')"
            ]
          },
          "metadata": {
            "tags": []
          },
          "execution_count": 28
        }
      ]
    },
    {
      "cell_type": "code",
      "metadata": {
        "id": "zK2ORoqdTNsM"
      },
      "source": [
        "train_iterator, valid_iterator = data.BucketIterator.splits((train, test), batch_size = 32, \n",
        "                                                            sort_key = lambda x: len(x.review),\n",
        "                                                            sort_within_batch=True, device = device)"
      ],
      "execution_count": 29,
      "outputs": []
    },
    {
      "cell_type": "markdown",
      "metadata": {
        "id": "Gg7gTFQO4fby"
      },
      "source": [
        "Save the vocabulary for later use"
      ]
    },
    {
      "cell_type": "code",
      "metadata": {
        "id": "niE9Cc6-2bD_"
      },
      "source": [
        "import os, pickle\n",
        "with open('tokenizer.pkl', 'wb') as tokens: \n",
        "    pickle.dump(Review.vocab.stoi, tokens)"
      ],
      "execution_count": 30,
      "outputs": []
    },
    {
      "cell_type": "markdown",
      "metadata": {
        "id": "1AbsQwqkVyAy"
      },
      "source": [
        "## Defining Our Model"
      ]
    },
    {
      "cell_type": "markdown",
      "metadata": {
        "id": "E4PED4HJWH4t"
      },
      "source": [
        "We use the Embedding and LSTM modules in PyTorch to build a simple model for classifying tweets.\n",
        "\n",
        "In this model we create three layers. \n",
        "1. First, the words in our tweets are pushed into an Embedding layer, which we have established as a 300-dimensional vector embedding. \n",
        "2. That’s then fed into a 2 stacked-LSTMs with 100 hidden features (again, we’re compressing down from the 300-dimensional input like we did with images). We are using 2 LSTMs for using the dropout.\n",
        "3. Finally, the output of the LSTM (the final hidden state after processing the incoming tweet) is pushed through a standard fully connected layer with three outputs to correspond to our three possible classes (negative, positive, or neutral)."
      ]
    },
    {
      "cell_type": "code",
      "metadata": {
        "id": "43pVRccMT0bT"
      },
      "source": [
        "import torch.nn as nn\n",
        "import torch.nn.functional as F\n",
        "\n",
        "class classifier(nn.Module):\n",
        "    \n",
        "    # Define all the layers used in model\n",
        "    def __init__(self, vocab_size, embedding_dim, hidden_dim, output_dim, n_layers, dropout):\n",
        "        \n",
        "        super().__init__()          \n",
        "        \n",
        "        # Embedding layer\n",
        "        self.embedding = nn.Embedding(vocab_size, embedding_dim)\n",
        "        \n",
        "        # LSTM layer\n",
        "        self.encoder = nn.LSTM(embedding_dim, \n",
        "                           hidden_dim, \n",
        "                           num_layers=n_layers, \n",
        "                           dropout=dropout,\n",
        "                           batch_first=True)\n",
        "        # try using nn.GRU or nn.RNN here and compare their performances\n",
        "        # try bidirectional and compare their performances\n",
        "        \n",
        "        # Dense layer\n",
        "        self.fc = nn.Linear(hidden_dim, output_dim)\n",
        "        \n",
        "    def forward(self, text, text_lengths):\n",
        "        \n",
        "        # text = [batch size, sent_length]\n",
        "        embedded = self.embedding(text)\n",
        "        # embedded = [batch size, sent_len, emb dim]\n",
        "      \n",
        "        # packed sequence\n",
        "        packed_embedded = nn.utils.rnn.pack_padded_sequence(embedded, text_lengths.cpu(), batch_first=True)\n",
        "        \n",
        "        packed_output, (hidden, cell) = self.encoder(packed_embedded)\n",
        "        #hidden = [batch size, num layers * num directions,hid dim]\n",
        "        #cell = [batch size, num layers * num directions,hid dim]\n",
        "    \n",
        "        # Hidden = [batch size, hid dim * num directions]\n",
        "        dense_outputs = self.fc(hidden)   \n",
        "        \n",
        "        # Final activation function softmax\n",
        "        output = F.softmax(dense_outputs[0], dim=1)\n",
        "            \n",
        "        return output"
      ],
      "execution_count": 31,
      "outputs": []
    },
    {
      "cell_type": "code",
      "metadata": {
        "id": "rwBoGE_X_Fl8"
      },
      "source": [
        "# Define hyperparameters\n",
        "size_of_vocab = len(Review.vocab)\n",
        "embedding_dim = 300\n",
        "num_hidden_nodes = 200\n",
        "num_output_nodes = 5\n",
        "num_layers = 3\n",
        "dropout = 0.4\n",
        "\n",
        "# Instantiate the model\n",
        "model = classifier(size_of_vocab, embedding_dim, num_hidden_nodes, num_output_nodes, num_layers, dropout = dropout)"
      ],
      "execution_count": 32,
      "outputs": []
    },
    {
      "cell_type": "code",
      "metadata": {
        "id": "O-pOMqzJ3eTv",
        "colab": {
          "base_uri": "https://localhost:8080/"
        },
        "outputId": "d140aafd-7cf0-43a4-8b43-1441f7ff3c68"
      },
      "source": [
        "print(model)\n",
        "\n",
        "#No. of trianable parameters\n",
        "def count_parameters(model):\n",
        "    return sum(p.numel() for p in model.parameters() if p.requires_grad)\n",
        "    \n",
        "print(f'The model has {count_parameters(model):,} trainable parameters')"
      ],
      "execution_count": 33,
      "outputs": [
        {
          "output_type": "stream",
          "text": [
            "classifier(\n",
            "  (embedding): Embedding(17767, 300)\n",
            "  (encoder): LSTM(300, 200, num_layers=3, batch_first=True, dropout=0.4)\n",
            "  (fc): Linear(in_features=200, out_features=5, bias=True)\n",
            ")\n",
            "The model has 6,375,905 trainable parameters\n"
          ],
          "name": "stdout"
        }
      ]
    },
    {
      "cell_type": "markdown",
      "metadata": {
        "id": "eXajorf5Xz7t"
      },
      "source": [
        "## Model Training and Evaluation"
      ]
    },
    {
      "cell_type": "markdown",
      "metadata": {
        "id": "PrE9RpMtZ1Vs"
      },
      "source": [
        "First define the optimizer and loss functions"
      ]
    },
    {
      "cell_type": "code",
      "metadata": {
        "id": "-u86JWdlXvu5"
      },
      "source": [
        "import torch.optim as optim\n",
        "\n",
        "# define optimizer and loss\n",
        "optimizer = optim.Adam(model.parameters(), lr=2e-4)\n",
        "criterion = nn.CrossEntropyLoss()\n",
        "\n",
        "# define metric\n",
        "def binary_accuracy(preds, y):\n",
        "    #round predictions to the closest integer\n",
        "    _, predictions = torch.max(preds, 1)\n",
        "    \n",
        "    correct = (predictions == y).float() \n",
        "    acc = correct.sum() / len(correct)\n",
        "    return acc\n",
        "    \n",
        "# push to cuda if available\n",
        "model = model.to(device)\n",
        "criterion = criterion.to(device)"
      ],
      "execution_count": 34,
      "outputs": []
    },
    {
      "cell_type": "markdown",
      "metadata": {
        "id": "3VCJtNb3Zt8w"
      },
      "source": [
        "The main thing to be aware of in this new training loop is that we have to reference `batch.tweets` and `batch.labels` to get the particular fields we’re interested in; they don’t fall out quite as nicely from the enumerator as they do in torchvision."
      ]
    },
    {
      "cell_type": "markdown",
      "metadata": {
        "id": "2WjEPLKsAiS_"
      },
      "source": [
        "**Training Loop**"
      ]
    },
    {
      "cell_type": "code",
      "metadata": {
        "id": "HDWNnGK3Y5oJ"
      },
      "source": [
        "def train(model, iterator, optimizer, criterion):\n",
        "    \n",
        "    # initialize every epoch \n",
        "    epoch_loss = 0\n",
        "    epoch_acc = 0\n",
        "    \n",
        "    # set the model in training phase\n",
        "    model.train()  \n",
        "    \n",
        "    for batch in iterator:\n",
        "        # resets the gradients after every batch\n",
        "        optimizer.zero_grad()   \n",
        "        \n",
        "        # retrieve text and no. of words\n",
        "        review, review_lengths = batch.review   \n",
        "        \n",
        "        # convert to 1D tensor\n",
        "        predictions = model(review, review_lengths).squeeze()  \n",
        "        \n",
        "        # compute the loss\n",
        "        loss = criterion(predictions, batch.labels) \n",
        "        \n",
        "        # compute the binary accuracy\n",
        "        acc = binary_accuracy(predictions, batch.labels)   \n",
        "        \n",
        "        # backpropage the loss and compute the gradients\n",
        "        loss.backward()       \n",
        "        \n",
        "        # update the weights\n",
        "        optimizer.step()      \n",
        "        \n",
        "        # loss and accuracy\n",
        "        epoch_loss += loss.item()  \n",
        "        epoch_acc += acc.item()    \n",
        "        \n",
        "    return epoch_loss / len(iterator), epoch_acc / len(iterator)"
      ],
      "execution_count": 35,
      "outputs": []
    },
    {
      "cell_type": "markdown",
      "metadata": {
        "id": "CZcHhkkvAsCt"
      },
      "source": [
        "**Evaluation Loop**"
      ]
    },
    {
      "cell_type": "code",
      "metadata": {
        "id": "zHEe-zSVAriL"
      },
      "source": [
        "def evaluate(model, iterator, criterion):\n",
        "    \n",
        "    # initialize every epoch\n",
        "    epoch_loss = 0\n",
        "    epoch_acc = 0\n",
        "\n",
        "    # deactivating dropout layers\n",
        "    model.eval()\n",
        "    \n",
        "    # deactivates autograd\n",
        "    with torch.no_grad():\n",
        "    \n",
        "        for batch in iterator:\n",
        "            \n",
        "            # retrieve text and no. of words\n",
        "            review, review_lengths = batch.review   \n",
        "            \n",
        "            # convert to 1d tensor\n",
        "            predictions = model(review, review_lengths).squeeze()\n",
        "            \n",
        "            # compute loss and accuracy\n",
        "            loss = criterion(predictions, batch.labels)\n",
        "            acc = binary_accuracy(predictions, batch.labels)\n",
        "            \n",
        "            # keep track of loss and accuracy\n",
        "            epoch_loss += loss.item()\n",
        "            epoch_acc += acc.item()\n",
        "        \n",
        "    return epoch_loss / len(iterator), epoch_acc / len(iterator)"
      ],
      "execution_count": 36,
      "outputs": []
    },
    {
      "cell_type": "markdown",
      "metadata": {
        "id": "L6LJFW7HaJoV"
      },
      "source": [
        "**Let's Train and Evaluate**"
      ]
    },
    {
      "cell_type": "code",
      "metadata": {
        "id": "tq330XlnaEU9",
        "colab": {
          "base_uri": "https://localhost:8080/"
        },
        "outputId": "4ad4b7c7-15f5-422b-cbdd-0b39bbe79c4d"
      },
      "source": [
        "N_EPOCHS = 100\n",
        "best_valid_loss = float('inf')\n",
        "\n",
        "for epoch in range(N_EPOCHS):\n",
        "     \n",
        "    # train the model\n",
        "    train_loss, train_acc = train(model, train_iterator, optimizer, criterion)\n",
        "    \n",
        "    # evaluate the model\n",
        "    valid_loss, valid_acc = evaluate(model, valid_iterator, criterion)\n",
        "    \n",
        "    # save the best model\n",
        "    if valid_loss < best_valid_loss:\n",
        "        best_valid_loss = valid_loss\n",
        "        torch.save(model.state_dict(), 'saved_weights.pt')\n",
        "    print(f'Epoch {epoch+1}/{N_EPOCHS}')\n",
        "    print(f'\\tTrain Loss: {train_loss:.3f} | Train Acc: {train_acc*100:.2f}%')\n",
        "    print(f'\\t Val. Loss: {valid_loss:.3f} |  Val. Acc: {valid_acc*100:.2f}% \\n')"
      ],
      "execution_count": null,
      "outputs": [
        {
          "output_type": "stream",
          "text": [
            "Epoch 1/100\n",
            "\tTrain Loss: 1.556 | Train Acc: 32.03%\n",
            "\t Val. Loss: 1.553 |  Val. Acc: 32.75% \n",
            "\n",
            "Epoch 2/100\n",
            "\tTrain Loss: 1.465 | Train Acc: 43.34%\n",
            "\t Val. Loss: 1.543 |  Val. Acc: 33.88% \n",
            "\n",
            "Epoch 3/100\n",
            "\tTrain Loss: 1.383 | Train Acc: 52.58%\n",
            "\t Val. Loss: 1.551 |  Val. Acc: 32.66% \n",
            "\n",
            "Epoch 4/100\n",
            "\tTrain Loss: 1.300 | Train Acc: 61.34%\n",
            "\t Val. Loss: 1.547 |  Val. Acc: 33.88% \n",
            "\n",
            "Epoch 5/100\n",
            "\tTrain Loss: 1.235 | Train Acc: 67.95%\n",
            "\t Val. Loss: 1.543 |  Val. Acc: 34.59% \n",
            "\n",
            "Epoch 6/100\n",
            "\tTrain Loss: 1.179 | Train Acc: 73.93%\n",
            "\t Val. Loss: 1.547 |  Val. Acc: 33.49% \n",
            "\n",
            "Epoch 7/100\n",
            "\tTrain Loss: 1.135 | Train Acc: 78.37%\n",
            "\t Val. Loss: 1.557 |  Val. Acc: 32.52% \n",
            "\n",
            "Epoch 8/100\n",
            "\tTrain Loss: 1.100 | Train Acc: 81.77%\n",
            "\t Val. Loss: 1.548 |  Val. Acc: 33.61% \n",
            "\n",
            "Epoch 9/100\n",
            "\tTrain Loss: 1.072 | Train Acc: 84.37%\n",
            "\t Val. Loss: 1.556 |  Val. Acc: 33.08% \n",
            "\n",
            "Epoch 10/100\n",
            "\tTrain Loss: 1.056 | Train Acc: 85.70%\n",
            "\t Val. Loss: 1.557 |  Val. Acc: 33.17% \n",
            "\n",
            "Epoch 11/100\n",
            "\tTrain Loss: 1.039 | Train Acc: 87.22%\n",
            "\t Val. Loss: 1.557 |  Val. Acc: 33.28% \n",
            "\n",
            "Epoch 12/100\n",
            "\tTrain Loss: 1.031 | Train Acc: 87.93%\n",
            "\t Val. Loss: 1.547 |  Val. Acc: 34.45% \n",
            "\n",
            "Epoch 13/100\n",
            "\tTrain Loss: 1.020 | Train Acc: 88.92%\n",
            "\t Val. Loss: 1.555 |  Val. Acc: 33.79% \n",
            "\n",
            "Epoch 14/100\n",
            "\tTrain Loss: 1.016 | Train Acc: 89.32%\n",
            "\t Val. Loss: 1.543 |  Val. Acc: 34.73% \n",
            "\n",
            "Epoch 15/100\n",
            "\tTrain Loss: 1.007 | Train Acc: 90.15%\n",
            "\t Val. Loss: 1.555 |  Val. Acc: 33.90% \n",
            "\n",
            "Epoch 16/100\n",
            "\tTrain Loss: 1.003 | Train Acc: 90.53%\n",
            "\t Val. Loss: 1.552 |  Val. Acc: 34.09% \n",
            "\n",
            "Epoch 17/100\n",
            "\tTrain Loss: 1.000 | Train Acc: 90.77%\n",
            "\t Val. Loss: 1.563 |  Val. Acc: 33.26% \n",
            "\n",
            "Epoch 18/100\n",
            "\tTrain Loss: 0.993 | Train Acc: 91.34%\n",
            "\t Val. Loss: 1.554 |  Val. Acc: 34.04% \n",
            "\n",
            "Epoch 19/100\n",
            "\tTrain Loss: 0.990 | Train Acc: 91.67%\n",
            "\t Val. Loss: 1.554 |  Val. Acc: 34.27% \n",
            "\n",
            "Epoch 20/100\n",
            "\tTrain Loss: 0.987 | Train Acc: 91.90%\n",
            "\t Val. Loss: 1.564 |  Val. Acc: 33.08% \n",
            "\n",
            "Epoch 21/100\n",
            "\tTrain Loss: 0.984 | Train Acc: 92.16%\n",
            "\t Val. Loss: 1.564 |  Val. Acc: 32.94% \n",
            "\n",
            "Epoch 22/100\n",
            "\tTrain Loss: 0.984 | Train Acc: 92.21%\n",
            "\t Val. Loss: 1.564 |  Val. Acc: 33.00% \n",
            "\n",
            "Epoch 23/100\n",
            "\tTrain Loss: 0.980 | Train Acc: 92.59%\n",
            "\t Val. Loss: 1.559 |  Val. Acc: 33.49% \n",
            "\n",
            "Epoch 24/100\n",
            "\tTrain Loss: 0.977 | Train Acc: 92.85%\n",
            "\t Val. Loss: 1.564 |  Val. Acc: 32.92% \n",
            "\n",
            "Epoch 25/100\n",
            "\tTrain Loss: 0.976 | Train Acc: 92.90%\n",
            "\t Val. Loss: 1.555 |  Val. Acc: 33.86% \n",
            "\n",
            "Epoch 26/100\n",
            "\tTrain Loss: 0.976 | Train Acc: 92.96%\n",
            "\t Val. Loss: 1.552 |  Val. Acc: 34.39% \n",
            "\n",
            "Epoch 27/100\n",
            "\tTrain Loss: 0.972 | Train Acc: 93.33%\n",
            "\t Val. Loss: 1.557 |  Val. Acc: 33.99% \n",
            "\n",
            "Epoch 28/100\n",
            "\tTrain Loss: 0.973 | Train Acc: 93.30%\n",
            "\t Val. Loss: 1.551 |  Val. Acc: 34.50% \n",
            "\n",
            "Epoch 29/100\n",
            "\tTrain Loss: 0.971 | Train Acc: 93.44%\n",
            "\t Val. Loss: 1.573 |  Val. Acc: 32.57% \n",
            "\n",
            "Epoch 30/100\n",
            "\tTrain Loss: 0.972 | Train Acc: 93.28%\n",
            "\t Val. Loss: 1.573 |  Val. Acc: 32.25% \n",
            "\n",
            "Epoch 31/100\n",
            "\tTrain Loss: 0.968 | Train Acc: 93.72%\n",
            "\t Val. Loss: 1.566 |  Val. Acc: 32.75% \n",
            "\n",
            "Epoch 32/100\n",
            "\tTrain Loss: 0.967 | Train Acc: 93.82%\n",
            "\t Val. Loss: 1.566 |  Val. Acc: 32.85% \n",
            "\n",
            "Epoch 33/100\n",
            "\tTrain Loss: 0.966 | Train Acc: 93.94%\n",
            "\t Val. Loss: 1.562 |  Val. Acc: 33.65% \n",
            "\n",
            "Epoch 34/100\n",
            "\tTrain Loss: 0.966 | Train Acc: 93.96%\n",
            "\t Val. Loss: 1.563 |  Val. Acc: 33.17% \n",
            "\n",
            "Epoch 35/100\n",
            "\tTrain Loss: 0.966 | Train Acc: 93.97%\n",
            "\t Val. Loss: 1.564 |  Val. Acc: 32.85% \n",
            "\n",
            "Epoch 36/100\n",
            "\tTrain Loss: 0.963 | Train Acc: 94.21%\n",
            "\t Val. Loss: 1.559 |  Val. Acc: 33.58% \n",
            "\n",
            "Epoch 37/100\n",
            "\tTrain Loss: 0.962 | Train Acc: 94.35%\n",
            "\t Val. Loss: 1.564 |  Val. Acc: 33.30% \n",
            "\n",
            "Epoch 38/100\n",
            "\tTrain Loss: 0.963 | Train Acc: 94.21%\n",
            "\t Val. Loss: 1.558 |  Val. Acc: 34.29% \n",
            "\n",
            "Epoch 39/100\n",
            "\tTrain Loss: 0.960 | Train Acc: 94.48%\n",
            "\t Val. Loss: 1.569 |  Val. Acc: 32.80% \n",
            "\n",
            "Epoch 40/100\n",
            "\tTrain Loss: 0.961 | Train Acc: 94.42%\n",
            "\t Val. Loss: 1.562 |  Val. Acc: 33.42% \n",
            "\n",
            "Epoch 41/100\n",
            "\tTrain Loss: 0.959 | Train Acc: 94.60%\n",
            "\t Val. Loss: 1.559 |  Val. Acc: 33.56% \n",
            "\n",
            "Epoch 42/100\n",
            "\tTrain Loss: 0.958 | Train Acc: 94.70%\n",
            "\t Val. Loss: 1.572 |  Val. Acc: 32.46% \n",
            "\n",
            "Epoch 43/100\n",
            "\tTrain Loss: 0.957 | Train Acc: 94.80%\n",
            "\t Val. Loss: 1.564 |  Val. Acc: 33.53% \n",
            "\n",
            "Epoch 44/100\n",
            "\tTrain Loss: 0.957 | Train Acc: 94.82%\n",
            "\t Val. Loss: 1.565 |  Val. Acc: 33.21% \n",
            "\n",
            "Epoch 45/100\n",
            "\tTrain Loss: 0.958 | Train Acc: 94.73%\n",
            "\t Val. Loss: 1.557 |  Val. Acc: 33.93% \n",
            "\n",
            "Epoch 46/100\n",
            "\tTrain Loss: 0.955 | Train Acc: 94.93%\n",
            "\t Val. Loss: 1.570 |  Val. Acc: 32.41% \n",
            "\n",
            "Epoch 47/100\n",
            "\tTrain Loss: 0.956 | Train Acc: 94.94%\n",
            "\t Val. Loss: 1.567 |  Val. Acc: 32.98% \n",
            "\n",
            "Epoch 48/100\n",
            "\tTrain Loss: 0.955 | Train Acc: 95.03%\n",
            "\t Val. Loss: 1.554 |  Val. Acc: 34.53% \n",
            "\n",
            "Epoch 49/100\n",
            "\tTrain Loss: 0.954 | Train Acc: 95.12%\n",
            "\t Val. Loss: 1.567 |  Val. Acc: 33.10% \n",
            "\n",
            "Epoch 50/100\n",
            "\tTrain Loss: 0.953 | Train Acc: 95.19%\n",
            "\t Val. Loss: 1.556 |  Val. Acc: 33.97% \n",
            "\n",
            "Epoch 51/100\n",
            "\tTrain Loss: 0.953 | Train Acc: 95.17%\n",
            "\t Val. Loss: 1.566 |  Val. Acc: 33.15% \n",
            "\n",
            "Epoch 52/100\n",
            "\tTrain Loss: 0.953 | Train Acc: 95.21%\n",
            "\t Val. Loss: 1.578 |  Val. Acc: 31.97% \n",
            "\n",
            "Epoch 53/100\n",
            "\tTrain Loss: 0.951 | Train Acc: 95.37%\n",
            "\t Val. Loss: 1.559 |  Val. Acc: 34.16% \n",
            "\n",
            "Epoch 54/100\n",
            "\tTrain Loss: 0.951 | Train Acc: 95.37%\n",
            "\t Val. Loss: 1.577 |  Val. Acc: 31.95% \n",
            "\n",
            "Epoch 55/100\n",
            "\tTrain Loss: 0.952 | Train Acc: 95.33%\n",
            "\t Val. Loss: 1.573 |  Val. Acc: 32.06% \n",
            "\n",
            "Epoch 56/100\n",
            "\tTrain Loss: 0.949 | Train Acc: 95.54%\n",
            "\t Val. Loss: 1.559 |  Val. Acc: 33.93% \n",
            "\n",
            "Epoch 57/100\n",
            "\tTrain Loss: 0.950 | Train Acc: 95.54%\n",
            "\t Val. Loss: 1.565 |  Val. Acc: 33.30% \n",
            "\n",
            "Epoch 58/100\n",
            "\tTrain Loss: 0.949 | Train Acc: 95.59%\n",
            "\t Val. Loss: 1.567 |  Val. Acc: 32.66% \n",
            "\n",
            "Epoch 59/100\n",
            "\tTrain Loss: 0.949 | Train Acc: 95.54%\n",
            "\t Val. Loss: 1.569 |  Val. Acc: 32.57% \n",
            "\n",
            "Epoch 60/100\n",
            "\tTrain Loss: 0.948 | Train Acc: 95.65%\n",
            "\t Val. Loss: 1.569 |  Val. Acc: 32.27% \n",
            "\n",
            "Epoch 61/100\n",
            "\tTrain Loss: 0.948 | Train Acc: 95.71%\n",
            "\t Val. Loss: 1.559 |  Val. Acc: 33.86% \n",
            "\n",
            "Epoch 62/100\n",
            "\tTrain Loss: 0.947 | Train Acc: 95.76%\n",
            "\t Val. Loss: 1.555 |  Val. Acc: 34.22% \n",
            "\n",
            "Epoch 63/100\n",
            "\tTrain Loss: 0.948 | Train Acc: 95.64%\n",
            "\t Val. Loss: 1.568 |  Val. Acc: 32.94% \n",
            "\n",
            "Epoch 64/100\n",
            "\tTrain Loss: 0.948 | Train Acc: 95.70%\n",
            "\t Val. Loss: 1.562 |  Val. Acc: 33.53% \n",
            "\n",
            "Epoch 65/100\n",
            "\tTrain Loss: 0.947 | Train Acc: 95.73%\n",
            "\t Val. Loss: 1.556 |  Val. Acc: 34.07% \n",
            "\n",
            "Epoch 66/100\n",
            "\tTrain Loss: 0.946 | Train Acc: 95.82%\n",
            "\t Val. Loss: 1.563 |  Val. Acc: 33.33% \n",
            "\n",
            "Epoch 67/100\n",
            "\tTrain Loss: 0.946 | Train Acc: 95.86%\n",
            "\t Val. Loss: 1.564 |  Val. Acc: 33.19% \n",
            "\n",
            "Epoch 68/100\n",
            "\tTrain Loss: 0.946 | Train Acc: 95.87%\n",
            "\t Val. Loss: 1.583 |  Val. Acc: 31.03% \n",
            "\n",
            "Epoch 69/100\n",
            "\tTrain Loss: 0.946 | Train Acc: 95.83%\n",
            "\t Val. Loss: 1.564 |  Val. Acc: 33.10% \n",
            "\n",
            "Epoch 70/100\n",
            "\tTrain Loss: 0.945 | Train Acc: 96.00%\n",
            "\t Val. Loss: 1.568 |  Val. Acc: 32.77% \n",
            "\n",
            "Epoch 71/100\n",
            "\tTrain Loss: 0.944 | Train Acc: 96.02%\n",
            "\t Val. Loss: 1.555 |  Val. Acc: 34.57% \n",
            "\n",
            "Epoch 72/100\n",
            "\tTrain Loss: 0.945 | Train Acc: 95.93%\n",
            "\t Val. Loss: 1.561 |  Val. Acc: 33.32% \n",
            "\n",
            "Epoch 73/100\n",
            "\tTrain Loss: 0.945 | Train Acc: 95.96%\n",
            "\t Val. Loss: 1.565 |  Val. Acc: 33.17% \n",
            "\n",
            "Epoch 74/100\n",
            "\tTrain Loss: 0.945 | Train Acc: 95.95%\n",
            "\t Val. Loss: 1.563 |  Val. Acc: 33.51% \n",
            "\n",
            "Epoch 75/100\n",
            "\tTrain Loss: 0.944 | Train Acc: 96.09%\n",
            "\t Val. Loss: 1.561 |  Val. Acc: 33.63% \n",
            "\n",
            "Epoch 76/100\n",
            "\tTrain Loss: 0.944 | Train Acc: 96.02%\n",
            "\t Val. Loss: 1.565 |  Val. Acc: 33.03% \n",
            "\n",
            "Epoch 77/100\n",
            "\tTrain Loss: 0.943 | Train Acc: 96.13%\n",
            "\t Val. Loss: 1.569 |  Val. Acc: 32.41% \n",
            "\n",
            "Epoch 78/100\n",
            "\tTrain Loss: 0.943 | Train Acc: 96.16%\n",
            "\t Val. Loss: 1.554 |  Val. Acc: 34.30% \n",
            "\n",
            "Epoch 79/100\n",
            "\tTrain Loss: 0.943 | Train Acc: 96.13%\n",
            "\t Val. Loss: 1.555 |  Val. Acc: 34.11% \n",
            "\n",
            "Epoch 80/100\n",
            "\tTrain Loss: 0.943 | Train Acc: 96.17%\n",
            "\t Val. Loss: 1.558 |  Val. Acc: 34.02% \n",
            "\n",
            "Epoch 81/100\n",
            "\tTrain Loss: 0.943 | Train Acc: 96.20%\n",
            "\t Val. Loss: 1.554 |  Val. Acc: 34.30% \n",
            "\n",
            "Epoch 82/100\n",
            "\tTrain Loss: 0.943 | Train Acc: 96.19%\n",
            "\t Val. Loss: 1.564 |  Val. Acc: 33.49% \n",
            "\n",
            "Epoch 83/100\n",
            "\tTrain Loss: 0.942 | Train Acc: 96.27%\n",
            "\t Val. Loss: 1.559 |  Val. Acc: 33.72% \n",
            "\n"
          ],
          "name": "stdout"
        }
      ]
    },
    {
      "cell_type": "markdown",
      "metadata": {
        "id": "LZgzB0ZkHVTI"
      },
      "source": [
        "## Model Testing"
      ]
    },
    {
      "cell_type": "code",
      "metadata": {
        "id": "aZZfnWo0abRx"
      },
      "source": [
        "#load weights and tokenizer\n",
        "\n",
        "path='./saved_weights.pt'\n",
        "model.load_state_dict(torch.load(path));\n",
        "model.eval();\n",
        "tokenizer_file = open('./tokenizer.pkl', 'rb')\n",
        "tokenizer = pickle.load(tokenizer_file)\n",
        "\n",
        "#inference \n",
        "\n",
        "import spacy\n",
        "nlp = spacy.load('en')\n",
        "\n",
        "def classify_tweet(tweet):\n",
        "    \n",
        "    categories = {0: \"Negative\", 1:\"Positive\", 2:\"Neutral\"}\n",
        "    \n",
        "    # tokenize the tweet \n",
        "    tokenized = [tok.text for tok in nlp.tokenizer(tweet)] \n",
        "    # convert to integer sequence using predefined tokenizer dictionary\n",
        "    indexed = [tokenizer[t] for t in tokenized]        \n",
        "    # compute no. of words        \n",
        "    length = [len(indexed)]\n",
        "    # convert to tensor                                    \n",
        "    tensor = torch.LongTensor(indexed).to(device)   \n",
        "    # reshape in form of batch, no. of words           \n",
        "    tensor = tensor.unsqueeze(1).T  \n",
        "    # convert to tensor                          \n",
        "    length_tensor = torch.LongTensor(length)\n",
        "    # Get the model prediction                  \n",
        "    prediction = model(tensor, length_tensor)\n",
        "\n",
        "    _, pred = torch.max(prediction, 1) \n",
        "    \n",
        "    return categories[pred.item()]"
      ],
      "execution_count": null,
      "outputs": []
    },
    {
      "cell_type": "code",
      "metadata": {
        "id": "yTkHLEipIlM9",
        "colab": {
          "base_uri": "https://localhost:8080/",
          "height": 35
        },
        "outputId": "08f237d8-fbba-4205-f9fe-3188fdd6561d"
      },
      "source": [
        "classify_tweet(\"A valid explanation for why Trump won't let women on the golf course.\")"
      ],
      "execution_count": null,
      "outputs": [
        {
          "output_type": "execute_result",
          "data": {
            "application/vnd.google.colaboratory.intrinsic+json": {
              "type": "string"
            },
            "text/plain": [
              "'Negative'"
            ]
          },
          "metadata": {
            "tags": []
          },
          "execution_count": 27
        }
      ]
    },
    {
      "cell_type": "markdown",
      "metadata": {
        "id": "WVjCuKK_LVEF"
      },
      "source": [
        "## Discussion on Data Augmentation Techniques \n",
        "\n",
        "You might wonder exactly how you can augment text data. After all, you can’t really flip it horizontally as you can an image! :D \n",
        "\n",
        "In contrast to data augmentation in images, augmentation techniques on data is very specific to final product you are building. As its general usage on any type of textual data doesn't provides a significant performance boost, that's why unlike torchvision, torchtext doesn’t offer a augmentation pipeline. Due to powerful models as transformers, augmentation tecnhiques are not so preferred now-a-days. But its better to know about some techniques with text that will provide your model with a little more information for training. \n",
        "\n",
        "### Synonym Replacement\n",
        "\n",
        "First, you could replace words in the sentence with synonyms, like so:\n",
        "\n",
        "    The dog slept on the mat\n",
        "\n",
        "could become\n",
        "\n",
        "    The dog slept on the rug\n",
        "\n",
        "Aside from the dog's insistence that a rug is much softer than a mat, the meaning of the sentence hasn’t changed. But mat and rug will be mapped to different indices in the vocabulary, so the model will learn that the two sentences map to the same label, and hopefully that there’s a connection between those two words, as everything else in the sentences is the same."
      ]
    },
    {
      "cell_type": "markdown",
      "metadata": {
        "id": "T_uEfWJpL6Nq"
      },
      "source": [
        "### Random Insertion\n",
        "A random insertion technique looks at a sentence and then randomly inserts synonyms of existing non-stopwords into the sentence n times. Assuming you have a way of getting a synonym of a word and a way of eliminating stopwords (common words such as and, it, the, etc.), shown, but not implemented, in this function via get_synonyms() and get_stopwords(), an implementation of this would be as follows:\n"
      ]
    },
    {
      "cell_type": "code",
      "metadata": {
        "id": "7Alm5D7WIvAC"
      },
      "source": [
        "def random_insertion(sentence, n = 2): \n",
        "    sentence = sentence.split()\n",
        "    words = remove_stopwords(sentence) \n",
        "    for _ in range(n):\n",
        "        new_synonym = get_synonyms(random.choice(words))\n",
        "        sentence.insert(randrange(len(sentence)+1), new_synonym) \n",
        "    return ' '.join(sentence)"
      ],
      "execution_count": null,
      "outputs": []
    },
    {
      "cell_type": "markdown",
      "metadata": {
        "id": "gqLWzwJ3Mm8h"
      },
      "source": [
        "## Random Deletion\n",
        "As the name suggests, random deletion deletes words from a sentence. Given a probability parameter p, it will go through the sentence and decide whether to delete a word or not based on that random probability. Consider of it as pixel dropouts while treating images."
      ]
    },
    {
      "cell_type": "code",
      "metadata": {
        "id": "-7Dz7JJfMqyC"
      },
      "source": [
        "def random_deletion(sentence, p=0.5): \n",
        "    words = sentence.split()\n",
        "    if len(words) == 1: # return if single word\n",
        "        return words\n",
        "    remaining = list(filter(lambda x: random.uniform(0,1) > p,words)) \n",
        "    if len(remaining) == 0: # if not left, sample a random word\n",
        "        return ' '.join([random.choice(words)])\n",
        "    else:\n",
        "        return ' '.join(remaining)"
      ],
      "execution_count": null,
      "outputs": []
    },
    {
      "cell_type": "markdown",
      "metadata": {
        "id": "zOIbi5WzO5OU"
      },
      "source": [
        "### Random Swap\n",
        "The random swap augmentation takes a sentence and then swaps words within it n times, with each iteration working on the previously swapped sentence. Here we sample two random numbers based on the length of the sentence, and then just keep swapping until we hit n."
      ]
    },
    {
      "cell_type": "code",
      "metadata": {
        "id": "LnkbG15HO3Yj"
      },
      "source": [
        "def random_swap(sentence, n=3):\n",
        "    words = sentence.split()\n",
        "    length = range(len(words)) \n",
        "    for _ in range(n):\n",
        "        idx1, idx2 = random.sample(length, 2)\n",
        "        words[idx1], words[idx2] = words[idx2], words[idx1] \n",
        "    return ' '.join(words)"
      ],
      "execution_count": null,
      "outputs": []
    },
    {
      "cell_type": "markdown",
      "metadata": {
        "id": "599NpwfMR5Vm"
      },
      "source": [
        "For more on this please go through this [paper](https://arxiv.org/pdf/1901.11196.pdf)."
      ]
    },
    {
      "cell_type": "markdown",
      "metadata": {
        "id": "a5aeKuNCRGip"
      },
      "source": [
        "### Back Translation\n",
        "\n",
        "Another popular approach for augmenting text datasets is back translation. This involves translating a sentence from our target language into one or more other languages and then translating all of them back to the original language. We can use the Python library googletrans for this purpose. "
      ]
    },
    {
      "cell_type": "code",
      "metadata": {
        "id": "GyT_MYtSWseB"
      },
      "source": [
        "!pip install googletrans"
      ],
      "execution_count": null,
      "outputs": []
    },
    {
      "cell_type": "code",
      "metadata": {
        "id": "pHhNBbYrRXNy",
        "colab": {
          "base_uri": "https://localhost:8080/"
        },
        "outputId": "aedaac5c-489f-490e-c477-005db37a518b"
      },
      "source": [
        "import random\n",
        "import googletrans\n",
        "from  googletrans import Translator\n",
        "\n",
        "translator = Translator()\n",
        "sentence = [ 'The dog slept on the rug']\n",
        "\n",
        "available_langs = list(googletrans.LANGUAGES.keys()) \n",
        "trans_lang = random.choice(available_langs) \n",
        "print(f\"Translating to {googletrans.LANGUAGES[trans_lang]}\")\n",
        "\n",
        "translations = translator.translate(sentence, dest=trans_lang) \n",
        "t_text = [t.text for t in translations]\n",
        "print(t_text)\n",
        "\n",
        "translations_en_random = translator.translate(t_text, src=trans_lang, dest='en') \n",
        "en_text = [t.text for t in translations_en_random]\n",
        "print(en_text)"
      ],
      "execution_count": null,
      "outputs": [
        {
          "output_type": "stream",
          "text": [
            "Translating to pashto\n",
            "['The dog slept on the rug']\n",
            "['The dog slept on the rug']\n"
          ],
          "name": "stdout"
        }
      ]
    },
    {
      "cell_type": "code",
      "metadata": {
        "colab": {
          "base_uri": "https://localhost:8080/",
          "height": 35
        },
        "id": "gFx2W_fUYJKx",
        "outputId": "04c6f215-76a1-47fe-dac7-dac6f301dd94"
      },
      "source": [
        "s = 'The dog slept on the rug'\r\n",
        "back_translate(s)"
      ],
      "execution_count": null,
      "outputs": [
        {
          "output_type": "execute_result",
          "data": {
            "application/vnd.google.colaboratory.intrinsic+json": {
              "type": "string"
            },
            "text/plain": [
              "'The dog slept on the rug'"
            ]
          },
          "metadata": {
            "tags": []
          },
          "execution_count": 21
        }
      ]
    }
  ]
}