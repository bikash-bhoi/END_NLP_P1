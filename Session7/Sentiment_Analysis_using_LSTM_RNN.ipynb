{
  "nbformat": 4,
  "nbformat_minor": 0,
  "metadata": {
    "colab": {
      "name": "Sentiment Analysis using LSTM RNN.ipynb",
      "provenance": [],
      "collapsed_sections": [],
      "toc_visible": true,
      "include_colab_link": true
    },
    "kernelspec": {
      "name": "python3",
      "display_name": "Python 3"
    },
    "accelerator": "GPU"
  },
  "cells": [
    {
      "cell_type": "markdown",
      "metadata": {
        "id": "view-in-github",
        "colab_type": "text"
      },
      "source": [
        "<a href=\"https://colab.research.google.com/github/bikash-bhoi/END_NLP_P1/blob/main/Session7/Sentiment_Analysis_using_LSTM_RNN.ipynb\" target=\"_parent\"><img src=\"https://colab.research.google.com/assets/colab-badge.svg\" alt=\"Open In Colab\"/></a>"
      ]
    },
    {
      "cell_type": "markdown",
      "metadata": {
        "id": "GYiRsFGD6iUC"
      },
      "source": [
        "# 0 TorchText"
      ]
    },
    {
      "cell_type": "code",
      "metadata": {
        "colab": {
          "base_uri": "https://localhost:8080/"
        },
        "id": "zWIOADP9gKhY",
        "outputId": "6340f1f1-52c4-482d-eb96-e97e3a4c15a6"
      },
      "source": [
        "!nvidia-smi"
      ],
      "execution_count": 1,
      "outputs": [
        {
          "output_type": "stream",
          "text": [
            "Wed Dec  9 22:17:59 2020       \n",
            "+-----------------------------------------------------------------------------+\n",
            "| NVIDIA-SMI 455.45.01    Driver Version: 418.67       CUDA Version: 10.1     |\n",
            "|-------------------------------+----------------------+----------------------+\n",
            "| GPU  Name        Persistence-M| Bus-Id        Disp.A | Volatile Uncorr. ECC |\n",
            "| Fan  Temp  Perf  Pwr:Usage/Cap|         Memory-Usage | GPU-Util  Compute M. |\n",
            "|                               |                      |               MIG M. |\n",
            "|===============================+======================+======================|\n",
            "|   0  Tesla T4            Off  | 00000000:00:04.0 Off |                    0 |\n",
            "| N/A   39C    P8     9W /  70W |      0MiB / 15079MiB |      0%      Default |\n",
            "|                               |                      |                 ERR! |\n",
            "+-------------------------------+----------------------+----------------------+\n",
            "                                                                               \n",
            "+-----------------------------------------------------------------------------+\n",
            "| Processes:                                                                  |\n",
            "|  GPU   GI   CI        PID   Type   Process name                  GPU Memory |\n",
            "|        ID   ID                                                   Usage      |\n",
            "|=============================================================================|\n",
            "|  No running processes found                                                 |\n",
            "+-----------------------------------------------------------------------------+\n"
          ],
          "name": "stdout"
        }
      ]
    },
    {
      "cell_type": "code",
      "metadata": {
        "id": "eI9fQjoLB0CR"
      },
      "source": [
        "!pip install pytreebank googletrans"
      ],
      "execution_count": null,
      "outputs": []
    },
    {
      "cell_type": "code",
      "metadata": {
        "id": "ipegPn04Fh53"
      },
      "source": [
        "!mkdir sentimentData\r\n",
        "!mv *.* sentimentData"
      ],
      "execution_count": null,
      "outputs": []
    },
    {
      "cell_type": "code",
      "metadata": {
        "id": "W4Gh2P4GFZFw"
      },
      "source": [
        "import pytreebank\r\n",
        "dataset = pytreebank.load_sst(\"/content/sentimentData\")"
      ],
      "execution_count": null,
      "outputs": []
    },
    {
      "cell_type": "code",
      "metadata": {
        "id": "AXeBjh4B9qjr"
      },
      "source": [
        "for category in [\"train\", \"test\", \"dev\"]:\r\n",
        "    with open(\"sst_{}.txt\".format(category), \"w\") as outfile:\r\n",
        "        for item in dataset[category]:\r\n",
        "            outfile.write(\r\n",
        "                \"{}\\t{}\\n\".format(\r\n",
        "                    item.to_labeled_lines()[0][0] + 1, item.to_labeled_lines()[0][1]\r\n",
        "                )\r\n",
        "            )"
      ],
      "execution_count": null,
      "outputs": []
    },
    {
      "cell_type": "code",
      "metadata": {
        "colab": {
          "base_uri": "https://localhost:8080/"
        },
        "id": "abBIKS3vAQNz",
        "outputId": "ebdc5b13-14d5-48f0-b54e-f85c69addbc3"
      },
      "source": [
        "!wc -l sst_test.txt\r\n",
        "!wc -l sst_train.txt"
      ],
      "execution_count": 1,
      "outputs": [
        {
          "output_type": "stream",
          "text": [
            "2210 sst_test.txt\n",
            "8544 sst_train.txt\n"
          ],
          "name": "stdout"
        }
      ]
    },
    {
      "cell_type": "markdown",
      "metadata": {
        "id": "tp5IzBGsPGHs"
      },
      "source": [
        "## Dataset Preview and Augmentation\n",
        "\n",
        "Your first step to deep learning in NLP. We will be mostly using PyTorch. Just like torchvision, PyTorch provides an official library, torchtext, for handling text-processing pipelines. \n",
        "\n",
        "We will be using previous session tweet dataset. Let's just preview the dataset."
      ]
    },
    {
      "cell_type": "code",
      "metadata": {
        "id": "o1-Yz-5RRFYc"
      },
      "source": [
        "import pandas as pd\n",
        "train_df = pd.read_csv('sst_train.txt', sep='\\t', names=['label', 'review'] )\n",
        "test_df = pd.read_csv('sst_test.txt', sep='\\t', names=['label', 'review'] )"
      ],
      "execution_count": 2,
      "outputs": []
    },
    {
      "cell_type": "code",
      "metadata": {
        "id": "tjqBm7rogQqg"
      },
      "source": [
        "from textaugment import back_translate, random_deletion, random_swap"
      ],
      "execution_count": 3,
      "outputs": []
    },
    {
      "cell_type": "code",
      "metadata": {
        "colab": {
          "base_uri": "https://localhost:8080/"
        },
        "id": "wtOlgiA9gtDo",
        "outputId": "771ba844-f6d0-4219-943d-e16170fa2cce"
      },
      "source": [
        "#Add back translate on 40% of train data\r\n",
        "df_percent = train_df.sample(frac=0.2)\r\n",
        "print(df_percent.shape, train_df.shape)\r\n",
        "back_trans = back_translate(list(df_percent.review)[5])\r\n",
        "back_trans, list(df_percent.review)[5]"
      ],
      "execution_count": 19,
      "outputs": [
        {
          "output_type": "stream",
          "text": [
            "(1709, 2) (8544, 2)\n",
            "Translating to czech\n"
          ],
          "name": "stdout"
        },
        {
          "output_type": "execute_result",
          "data": {
            "text/plain": [
              "(('Everyone should be able to appreciate the wonderful cinematography and naturalistic acting .',\n",
              "  'czech'),\n",
              " 'Everyone should be able to appreciate the wonderful cinematography and naturalistic acting .')"
            ]
          },
          "metadata": {
            "tags": []
          },
          "execution_count": 19
        }
      ]
    },
    {
      "cell_type": "code",
      "metadata": {
        "id": "R7JdpCW-YbAG",
        "colab": {
          "base_uri": "https://localhost:8080/"
        },
        "outputId": "c4c116e5-c574-43d8-9a73-0732f14993a8"
      },
      "source": [
        "train_df.shape, test_df.shape"
      ],
      "execution_count": null,
      "outputs": [
        {
          "output_type": "execute_result",
          "data": {
            "text/plain": [
              "((8544, 2), (2210, 2))"
            ]
          },
          "metadata": {
            "tags": []
          },
          "execution_count": 5
        }
      ]
    },
    {
      "cell_type": "code",
      "metadata": {
        "id": "zqRsoF6xYdgl",
        "colab": {
          "base_uri": "https://localhost:8080/"
        },
        "outputId": "98bf1a35-fefb-4dcc-858e-03f48bfa6444"
      },
      "source": [
        "print(train_df.label.value_counts())\r\n",
        "print(test_df.label.value_counts())"
      ],
      "execution_count": null,
      "outputs": [
        {
          "output_type": "stream",
          "text": [
            "4    2322\n",
            "2    2218\n",
            "3    1624\n",
            "5    1288\n",
            "1    1092\n",
            "Name: label, dtype: int64\n",
            "2    633\n",
            "4    510\n",
            "5    399\n",
            "3    389\n",
            "1    279\n",
            "Name: label, dtype: int64\n"
          ],
          "name": "stdout"
        }
      ]
    },
    {
      "cell_type": "markdown",
      "metadata": {
        "id": "XJ6o_79ISSVb"
      },
      "source": [
        "## Defining Fields"
      ]
    },
    {
      "cell_type": "markdown",
      "metadata": {
        "id": "e63g08ijOrf7"
      },
      "source": [
        "Now we shall be defining LABEL as a LabelField, which is a subclass of Field that sets sequen tial to False (as it’s our numerical category class). TWEET is a standard Field object, where we have decided to use the spaCy tokenizer and convert all the text to lower‐ case."
      ]
    },
    {
      "cell_type": "code",
      "metadata": {
        "id": "qk8IP4SK1Lrp",
        "colab": {
          "base_uri": "https://localhost:8080/"
        },
        "outputId": "e3eb1f7d-1055-445b-fcca-d60bb586b2a4"
      },
      "source": [
        "# Import Library\n",
        "import random\n",
        "import torch, torchtext\n",
        "from torchtext import data \n",
        "\n",
        "# Manual Seed\n",
        "SEED = 43\n",
        "torch.manual_seed(SEED)"
      ],
      "execution_count": null,
      "outputs": [
        {
          "output_type": "execute_result",
          "data": {
            "text/plain": [
              "<torch._C.Generator at 0x7f95cbe7ec90>"
            ]
          },
          "metadata": {
            "tags": []
          },
          "execution_count": 7
        }
      ]
    },
    {
      "cell_type": "code",
      "metadata": {
        "id": "u6bKQax2Mf_U"
      },
      "source": [
        "Review = data.Field(sequential = True, tokenize = 'spacy', batch_first =True, include_lengths=True)\n",
        "Label = data.LabelField(tokenize ='spacy', is_target=True, batch_first =True, sequential =False)"
      ],
      "execution_count": null,
      "outputs": []
    },
    {
      "cell_type": "markdown",
      "metadata": {
        "id": "mX-lYIe_O7Vy"
      },
      "source": [
        "Having defined those fields, we now need to produce a list that maps them onto the list of rows that are in the CSV:"
      ]
    },
    {
      "cell_type": "code",
      "metadata": {
        "id": "VawdWq36O6td"
      },
      "source": [
        "fields = [('review', Review),('labels',Label)]"
      ],
      "execution_count": null,
      "outputs": []
    },
    {
      "cell_type": "markdown",
      "metadata": {
        "id": "ZbtZ-Ph2P1xL"
      },
      "source": [
        "Armed with our declared fields, lets convert from pandas to list to torchtext. We could also use TabularDataset to apply that definition to the CSV directly but showing an alternative approach too."
      ]
    },
    {
      "cell_type": "code",
      "metadata": {
        "id": "L3OLcJ5B7rHz",
        "colab": {
          "base_uri": "https://localhost:8080/"
        },
        "outputId": "978aaef7-4b03-4407-d36a-24560c58d32b"
      },
      "source": [
        "train_example = [data.Example.fromlist([train_df.review[i],train_df.label[i]], fields) for i in range(train_df.shape[0])] \r\n",
        "test_example = [data.Example.fromlist([test_df.review[i],test_df.label[i]], fields) for i in range(test_df.shape[0])] \r\n",
        "len(train_example), len(test_example)"
      ],
      "execution_count": null,
      "outputs": [
        {
          "output_type": "execute_result",
          "data": {
            "text/plain": [
              "(8544, 2210)"
            ]
          },
          "metadata": {
            "tags": []
          },
          "execution_count": 10
        }
      ]
    },
    {
      "cell_type": "code",
      "metadata": {
        "id": "nT-flpH-P1cd"
      },
      "source": [
        "# Creating dataset\n",
        "#twitterDataset = data.TabularDataset(path=\"tweets.csv\", format=\"CSV\", fields=fields, skip_header=True)\n",
        "\n",
        "train = data.Dataset(train_example, fields)\n",
        "test = data.Dataset(test_example, fields)"
      ],
      "execution_count": null,
      "outputs": []
    },
    {
      "cell_type": "code",
      "metadata": {
        "id": "ykvsCGQMR6UD",
        "colab": {
          "base_uri": "https://localhost:8080/"
        },
        "outputId": "05bb5f8e-a5b3-436c-85b8-ec3e0070991f"
      },
      "source": [
        "(len(train), len(test))"
      ],
      "execution_count": null,
      "outputs": [
        {
          "output_type": "execute_result",
          "data": {
            "text/plain": [
              "(8544, 2210)"
            ]
          },
          "metadata": {
            "tags": []
          },
          "execution_count": 13
        }
      ]
    },
    {
      "cell_type": "markdown",
      "metadata": {
        "id": "kix8P2IKSBaV"
      },
      "source": [
        "An example from the dataset:"
      ]
    },
    {
      "cell_type": "code",
      "metadata": {
        "id": "dUpEOQruR9JL",
        "colab": {
          "base_uri": "https://localhost:8080/"
        },
        "outputId": "e18c9aa9-d907-4297-bd86-2cee88e2004b"
      },
      "source": [
        "vars(train.examples[10])"
      ],
      "execution_count": null,
      "outputs": [
        {
          "output_type": "execute_result",
          "data": {
            "text/plain": [
              "{'labels': 5,\n",
              " 'review': ['Good',\n",
              "  'fun',\n",
              "  ',',\n",
              "  'good',\n",
              "  'action',\n",
              "  ',',\n",
              "  'good',\n",
              "  'acting',\n",
              "  ',',\n",
              "  'good',\n",
              "  'dialogue',\n",
              "  ',',\n",
              "  'good',\n",
              "  'pace',\n",
              "  ',',\n",
              "  'good',\n",
              "  'cinematography',\n",
              "  '.']}"
            ]
          },
          "metadata": {
            "tags": []
          },
          "execution_count": 14
        }
      ]
    },
    {
      "cell_type": "markdown",
      "metadata": {
        "id": "AKdllP3FST4N"
      },
      "source": [
        "## Building Vocabulary"
      ]
    },
    {
      "cell_type": "markdown",
      "metadata": {
        "id": "SuvWQ-SpSmSz"
      },
      "source": [
        "At this point we would have built a one-hot encoding of each word that is present in the dataset—a rather tedious process. Thankfully, torchtext will do this for us, and will also allow a max_size parameter to be passed in to limit the vocabu‐ lary to the most common words. This is normally done to prevent the construction of a huge, memory-hungry model. We don’t want our GPUs too overwhelmed, after all. \n",
        "\n",
        "Let’s limit the vocabulary to a maximum of 5000 words in our training set:\n"
      ]
    },
    {
      "cell_type": "code",
      "metadata": {
        "id": "mx955u93SGeY"
      },
      "source": [
        "Review.build_vocab(train)\n",
        "Label.build_vocab(train)"
      ],
      "execution_count": null,
      "outputs": []
    },
    {
      "cell_type": "markdown",
      "metadata": {
        "id": "xvyEeEjXTGhX"
      },
      "source": [
        "By default, torchtext will add two more special tokens, <unk> for unknown words and <pad>, a padding token that will be used to pad all our text to roughly the same size to help with efficient batching on the GPU."
      ]
    },
    {
      "cell_type": "code",
      "metadata": {
        "id": "rA3tIESdcJdN",
        "colab": {
          "base_uri": "https://localhost:8080/"
        },
        "outputId": "e7107f60-d514-497a-d03d-f23e0be14e39"
      },
      "source": [
        "print('Size of input vocab : ', len(Review.vocab))\n",
        "print('Size of label vocab : ', len(Label.vocab))\n",
        "print('Top 10 words appreared repeatedly :', list(Review.vocab.freqs.most_common(10)))\n",
        "print('Labels : ', Label.vocab.stoi)"
      ],
      "execution_count": null,
      "outputs": [
        {
          "output_type": "stream",
          "text": [
            "Size of input vocab :  17165\n",
            "Size of label vocab :  5\n",
            "Top 10 words appreared repeatedly : [('.', 8041), (',', 7131), ('the', 6087), ('and', 4474), ('of', 4446), ('a', 4423), ('to', 3024), ('-', 2739), (\"'s\", 2544), ('is', 2540)]\n",
            "Labels :  defaultdict(<function _default_unk_index at 0x7f957d3c5400>, {4: 0, 2: 1, 3: 2, 5: 3, 1: 4})\n"
          ],
          "name": "stdout"
        }
      ]
    },
    {
      "cell_type": "markdown",
      "metadata": {
        "id": "rwjD2-ebTeUX"
      },
      "source": [
        "**Lots of stopwords!!**"
      ]
    },
    {
      "cell_type": "markdown",
      "metadata": {
        "id": "sLWW221gTpNs"
      },
      "source": [
        "Now we need to create a data loader to feed into our training loop. Torchtext provides the BucketIterator method that will produce what it calls a Batch, which is almost, but not quite, like the data loader we used on images."
      ]
    },
    {
      "cell_type": "markdown",
      "metadata": {
        "id": "EQqMhMoDUDmn"
      },
      "source": [
        "But at first declare the device we are using."
      ]
    },
    {
      "cell_type": "code",
      "metadata": {
        "id": "Zfo2QhGJUK4l",
        "colab": {
          "base_uri": "https://localhost:8080/"
        },
        "outputId": "7a0733d4-8d9e-42f4-866e-71c0264038b0"
      },
      "source": [
        "device = torch.device(\"cuda\" if torch.cuda.is_available() else \"cpu\")\r\n",
        "device"
      ],
      "execution_count": null,
      "outputs": [
        {
          "output_type": "execute_result",
          "data": {
            "text/plain": [
              "device(type='cuda')"
            ]
          },
          "metadata": {
            "tags": []
          },
          "execution_count": 17
        }
      ]
    },
    {
      "cell_type": "code",
      "metadata": {
        "id": "zK2ORoqdTNsM"
      },
      "source": [
        "train_iterator, valid_iterator = data.BucketIterator.splits((train, test), batch_size = 32, \n",
        "                                                            sort_key = lambda x: len(x.review),\n",
        "                                                            sort_within_batch=True, device = device)"
      ],
      "execution_count": null,
      "outputs": []
    },
    {
      "cell_type": "markdown",
      "metadata": {
        "id": "Gg7gTFQO4fby"
      },
      "source": [
        "Save the vocabulary for later use"
      ]
    },
    {
      "cell_type": "code",
      "metadata": {
        "id": "niE9Cc6-2bD_"
      },
      "source": [
        "import os, pickle\n",
        "with open('tokenizer.pkl', 'wb') as tokens: \n",
        "    pickle.dump(Review.vocab.stoi, tokens)"
      ],
      "execution_count": null,
      "outputs": []
    },
    {
      "cell_type": "markdown",
      "metadata": {
        "id": "1AbsQwqkVyAy"
      },
      "source": [
        "## Defining Our Model"
      ]
    },
    {
      "cell_type": "markdown",
      "metadata": {
        "id": "E4PED4HJWH4t"
      },
      "source": [
        "We use the Embedding and LSTM modules in PyTorch to build a simple model for classifying tweets.\n",
        "\n",
        "In this model we create three layers. \n",
        "1. First, the words in our tweets are pushed into an Embedding layer, which we have established as a 300-dimensional vector embedding. \n",
        "2. That’s then fed into a 2 stacked-LSTMs with 100 hidden features (again, we’re compressing down from the 300-dimensional input like we did with images). We are using 2 LSTMs for using the dropout.\n",
        "3. Finally, the output of the LSTM (the final hidden state after processing the incoming tweet) is pushed through a standard fully connected layer with three outputs to correspond to our three possible classes (negative, positive, or neutral)."
      ]
    },
    {
      "cell_type": "code",
      "metadata": {
        "id": "43pVRccMT0bT"
      },
      "source": [
        "import torch.nn as nn\n",
        "import torch.nn.functional as F\n",
        "\n",
        "class classifier(nn.Module):\n",
        "    \n",
        "    # Define all the layers used in model\n",
        "    def __init__(self, vocab_size, embedding_dim, hidden_dim, output_dim, n_layers, dropout):\n",
        "        \n",
        "        super().__init__()          \n",
        "        \n",
        "        # Embedding layer\n",
        "        self.embedding = nn.Embedding(vocab_size, embedding_dim)\n",
        "        \n",
        "        # LSTM layer\n",
        "        self.encoder = nn.LSTM(embedding_dim, \n",
        "                           hidden_dim, \n",
        "                           num_layers=n_layers, \n",
        "                           dropout=dropout,\n",
        "                           batch_first=True)\n",
        "        # try using nn.GRU or nn.RNN here and compare their performances\n",
        "        # try bidirectional and compare their performances\n",
        "        \n",
        "        # Dense layer\n",
        "        self.fc = nn.Linear(hidden_dim, output_dim)\n",
        "        \n",
        "    def forward(self, text, text_lengths):\n",
        "        \n",
        "        # text = [batch size, sent_length]\n",
        "        embedded = self.embedding(text)\n",
        "        # embedded = [batch size, sent_len, emb dim]\n",
        "      \n",
        "        # packed sequence\n",
        "        packed_embedded = nn.utils.rnn.pack_padded_sequence(embedded, text_lengths.cpu(), batch_first=True)\n",
        "        \n",
        "        packed_output, (hidden, cell) = self.encoder(packed_embedded)\n",
        "        #hidden = [batch size, num layers * num directions,hid dim]\n",
        "        #cell = [batch size, num layers * num directions,hid dim]\n",
        "    \n",
        "        # Hidden = [batch size, hid dim * num directions]\n",
        "        dense_outputs = self.fc(hidden)   \n",
        "        \n",
        "        # Final activation function softmax\n",
        "        output = F.softmax(dense_outputs[0], dim=1)\n",
        "            \n",
        "        return output"
      ],
      "execution_count": null,
      "outputs": []
    },
    {
      "cell_type": "code",
      "metadata": {
        "id": "rwBoGE_X_Fl8"
      },
      "source": [
        "# Define hyperparameters\n",
        "size_of_vocab = len(Review.vocab)\n",
        "embedding_dim = 300\n",
        "num_hidden_nodes = 100\n",
        "num_output_nodes = 5\n",
        "num_layers = 2\n",
        "dropout = 0.2\n",
        "\n",
        "# Instantiate the model\n",
        "model = classifier(size_of_vocab, embedding_dim, num_hidden_nodes, num_output_nodes, num_layers, dropout = dropout)"
      ],
      "execution_count": null,
      "outputs": []
    },
    {
      "cell_type": "code",
      "metadata": {
        "id": "O-pOMqzJ3eTv",
        "colab": {
          "base_uri": "https://localhost:8080/"
        },
        "outputId": "200a196c-54c8-4f60-e8c4-c1457e82372a"
      },
      "source": [
        "print(model)\n",
        "\n",
        "#No. of trianable parameters\n",
        "def count_parameters(model):\n",
        "    return sum(p.numel() for p in model.parameters() if p.requires_grad)\n",
        "    \n",
        "print(f'The model has {count_parameters(model):,} trainable parameters')"
      ],
      "execution_count": null,
      "outputs": [
        {
          "output_type": "stream",
          "text": [
            "classifier(\n",
            "  (embedding): Embedding(17165, 300)\n",
            "  (encoder): LSTM(300, 100, num_layers=2, batch_first=True, dropout=0.2)\n",
            "  (fc): Linear(in_features=100, out_features=5, bias=True)\n",
            ")\n",
            "The model has 5,391,605 trainable parameters\n"
          ],
          "name": "stdout"
        }
      ]
    },
    {
      "cell_type": "markdown",
      "metadata": {
        "id": "eXajorf5Xz7t"
      },
      "source": [
        "## Model Training and Evaluation"
      ]
    },
    {
      "cell_type": "markdown",
      "metadata": {
        "id": "PrE9RpMtZ1Vs"
      },
      "source": [
        "First define the optimizer and loss functions"
      ]
    },
    {
      "cell_type": "code",
      "metadata": {
        "id": "-u86JWdlXvu5"
      },
      "source": [
        "import torch.optim as optim\n",
        "\n",
        "# define optimizer and loss\n",
        "optimizer = optim.Adam(model.parameters(), lr=2e-4)\n",
        "criterion = nn.CrossEntropyLoss()\n",
        "\n",
        "# define metric\n",
        "def binary_accuracy(preds, y):\n",
        "    #round predictions to the closest integer\n",
        "    _, predictions = torch.max(preds, 1)\n",
        "    \n",
        "    correct = (predictions == y).float() \n",
        "    acc = correct.sum() / len(correct)\n",
        "    return acc\n",
        "    \n",
        "# push to cuda if available\n",
        "model = model.to(device)\n",
        "criterion = criterion.to(device)"
      ],
      "execution_count": null,
      "outputs": []
    },
    {
      "cell_type": "markdown",
      "metadata": {
        "id": "3VCJtNb3Zt8w"
      },
      "source": [
        "The main thing to be aware of in this new training loop is that we have to reference `batch.tweets` and `batch.labels` to get the particular fields we’re interested in; they don’t fall out quite as nicely from the enumerator as they do in torchvision."
      ]
    },
    {
      "cell_type": "markdown",
      "metadata": {
        "id": "2WjEPLKsAiS_"
      },
      "source": [
        "**Training Loop**"
      ]
    },
    {
      "cell_type": "code",
      "metadata": {
        "id": "HDWNnGK3Y5oJ"
      },
      "source": [
        "def train(model, iterator, optimizer, criterion):\n",
        "    \n",
        "    # initialize every epoch \n",
        "    epoch_loss = 0\n",
        "    epoch_acc = 0\n",
        "    \n",
        "    # set the model in training phase\n",
        "    model.train()  \n",
        "    \n",
        "    for batch in iterator:\n",
        "        # resets the gradients after every batch\n",
        "        optimizer.zero_grad()   \n",
        "        \n",
        "        # retrieve text and no. of words\n",
        "        review, review_lengths = batch.review   \n",
        "        \n",
        "        # convert to 1D tensor\n",
        "        predictions = model(review, review_lengths).squeeze()  \n",
        "        \n",
        "        # compute the loss\n",
        "        loss = criterion(predictions, batch.labels) \n",
        "        \n",
        "        # compute the binary accuracy\n",
        "        acc = binary_accuracy(predictions, batch.labels)   \n",
        "        \n",
        "        # backpropage the loss and compute the gradients\n",
        "        loss.backward()       \n",
        "        \n",
        "        # update the weights\n",
        "        optimizer.step()      \n",
        "        \n",
        "        # loss and accuracy\n",
        "        epoch_loss += loss.item()  \n",
        "        epoch_acc += acc.item()    \n",
        "        \n",
        "    return epoch_loss / len(iterator), epoch_acc / len(iterator)"
      ],
      "execution_count": null,
      "outputs": []
    },
    {
      "cell_type": "markdown",
      "metadata": {
        "id": "CZcHhkkvAsCt"
      },
      "source": [
        "**Evaluation Loop**"
      ]
    },
    {
      "cell_type": "code",
      "metadata": {
        "id": "zHEe-zSVAriL"
      },
      "source": [
        "def evaluate(model, iterator, criterion):\n",
        "    \n",
        "    # initialize every epoch\n",
        "    epoch_loss = 0\n",
        "    epoch_acc = 0\n",
        "\n",
        "    # deactivating dropout layers\n",
        "    model.eval()\n",
        "    \n",
        "    # deactivates autograd\n",
        "    with torch.no_grad():\n",
        "    \n",
        "        for batch in iterator:\n",
        "            \n",
        "            # retrieve text and no. of words\n",
        "            review, review_lengths = batch.review   \n",
        "            \n",
        "            # convert to 1d tensor\n",
        "            predictions = model(review, review_lengths).squeeze()\n",
        "            \n",
        "            # compute loss and accuracy\n",
        "            loss = criterion(predictions, batch.labels)\n",
        "            acc = binary_accuracy(predictions, batch.labels)\n",
        "            \n",
        "            # keep track of loss and accuracy\n",
        "            epoch_loss += loss.item()\n",
        "            epoch_acc += acc.item()\n",
        "        \n",
        "    return epoch_loss / len(iterator), epoch_acc / len(iterator)"
      ],
      "execution_count": null,
      "outputs": []
    },
    {
      "cell_type": "markdown",
      "metadata": {
        "id": "L6LJFW7HaJoV"
      },
      "source": [
        "**Let's Train and Evaluate**"
      ]
    },
    {
      "cell_type": "code",
      "metadata": {
        "id": "tq330XlnaEU9",
        "colab": {
          "base_uri": "https://localhost:8080/"
        },
        "outputId": "b7cf1775-e010-484c-f2fb-f17525776ae2"
      },
      "source": [
        "N_EPOCHS = 100\n",
        "best_valid_loss = float('inf')\n",
        "\n",
        "for epoch in range(N_EPOCHS):\n",
        "     \n",
        "    # train the model\n",
        "    train_loss, train_acc = train(model, train_iterator, optimizer, criterion)\n",
        "    \n",
        "    # evaluate the model\n",
        "    valid_loss, valid_acc = evaluate(model, valid_iterator, criterion)\n",
        "    \n",
        "    # save the best model\n",
        "    if valid_loss < best_valid_loss:\n",
        "        best_valid_loss = valid_loss\n",
        "        torch.save(model.state_dict(), 'saved_weights.pt')\n",
        "    \n",
        "    print(f'\\tTrain Loss: {train_loss:.3f} | Train Acc: {train_acc*100:.2f}%')\n",
        "    print(f'\\t Val. Loss: {valid_loss:.3f} |  Val. Acc: {valid_acc*100:.2f}% \\n')"
      ],
      "execution_count": null,
      "outputs": [
        {
          "output_type": "stream",
          "text": [
            "\tTrain Loss: 1.259 | Train Acc: 65.47%\n",
            "\t Val. Loss: 1.568 |  Val. Acc: 31.52% \n",
            "\n",
            "\tTrain Loss: 1.247 | Train Acc: 66.29%\n",
            "\t Val. Loss: 1.561 |  Val. Acc: 32.01% \n",
            "\n",
            "\tTrain Loss: 1.233 | Train Acc: 67.43%\n",
            "\t Val. Loss: 1.555 |  Val. Acc: 32.68% \n",
            "\n",
            "\tTrain Loss: 1.215 | Train Acc: 70.39%\n",
            "\t Val. Loss: 1.556 |  Val. Acc: 32.10% \n",
            "\n",
            "\tTrain Loss: 1.198 | Train Acc: 72.90%\n",
            "\t Val. Loss: 1.552 |  Val. Acc: 32.95% \n",
            "\n",
            "\tTrain Loss: 1.180 | Train Acc: 74.58%\n",
            "\t Val. Loss: 1.554 |  Val. Acc: 32.86% \n",
            "\n",
            "\tTrain Loss: 1.163 | Train Acc: 76.11%\n",
            "\t Val. Loss: 1.552 |  Val. Acc: 32.99% \n",
            "\n",
            "\tTrain Loss: 1.147 | Train Acc: 77.41%\n",
            "\t Val. Loss: 1.562 |  Val. Acc: 31.29% \n",
            "\n",
            "\tTrain Loss: 1.138 | Train Acc: 78.08%\n",
            "\t Val. Loss: 1.558 |  Val. Acc: 32.86% \n",
            "\n",
            "\tTrain Loss: 1.128 | Train Acc: 78.79%\n",
            "\t Val. Loss: 1.561 |  Val. Acc: 32.28% \n",
            "\n",
            "\tTrain Loss: 1.117 | Train Acc: 79.65%\n",
            "\t Val. Loss: 1.560 |  Val. Acc: 32.72% \n",
            "\n",
            "\tTrain Loss: 1.104 | Train Acc: 81.41%\n",
            "\t Val. Loss: 1.558 |  Val. Acc: 32.14% \n",
            "\n",
            "\tTrain Loss: 1.090 | Train Acc: 83.30%\n",
            "\t Val. Loss: 1.558 |  Val. Acc: 32.14% \n",
            "\n",
            "\tTrain Loss: 1.077 | Train Acc: 84.45%\n",
            "\t Val. Loss: 1.564 |  Val. Acc: 31.74% \n",
            "\n",
            "\tTrain Loss: 1.065 | Train Acc: 86.06%\n",
            "\t Val. Loss: 1.559 |  Val. Acc: 32.14% \n",
            "\n",
            "\tTrain Loss: 1.054 | Train Acc: 86.70%\n",
            "\t Val. Loss: 1.567 |  Val. Acc: 31.43% \n",
            "\n",
            "\tTrain Loss: 1.045 | Train Acc: 87.68%\n",
            "\t Val. Loss: 1.573 |  Val. Acc: 31.52% \n",
            "\n",
            "\tTrain Loss: 1.036 | Train Acc: 88.30%\n",
            "\t Val. Loss: 1.572 |  Val. Acc: 31.16% \n",
            "\n",
            "\tTrain Loss: 1.031 | Train Acc: 88.57%\n",
            "\t Val. Loss: 1.571 |  Val. Acc: 31.29% \n",
            "\n",
            "\tTrain Loss: 1.022 | Train Acc: 89.24%\n",
            "\t Val. Loss: 1.575 |  Val. Acc: 31.12% \n",
            "\n",
            "\tTrain Loss: 1.015 | Train Acc: 89.79%\n",
            "\t Val. Loss: 1.571 |  Val. Acc: 31.61% \n",
            "\n",
            "\tTrain Loss: 1.010 | Train Acc: 90.19%\n",
            "\t Val. Loss: 1.572 |  Val. Acc: 31.92% \n",
            "\n",
            "\tTrain Loss: 1.006 | Train Acc: 90.40%\n",
            "\t Val. Loss: 1.579 |  Val. Acc: 30.31% \n",
            "\n",
            "\tTrain Loss: 1.002 | Train Acc: 90.86%\n",
            "\t Val. Loss: 1.588 |  Val. Acc: 29.87% \n",
            "\n",
            "\tTrain Loss: 1.000 | Train Acc: 91.10%\n",
            "\t Val. Loss: 1.578 |  Val. Acc: 30.45% \n",
            "\n",
            "\tTrain Loss: 0.999 | Train Acc: 91.15%\n",
            "\t Val. Loss: 1.586 |  Val. Acc: 29.46% \n",
            "\n",
            "\tTrain Loss: 0.996 | Train Acc: 91.28%\n",
            "\t Val. Loss: 1.582 |  Val. Acc: 30.45% \n",
            "\n",
            "\tTrain Loss: 0.992 | Train Acc: 91.63%\n",
            "\t Val. Loss: 1.589 |  Val. Acc: 29.15% \n",
            "\n",
            "\tTrain Loss: 0.990 | Train Acc: 91.68%\n",
            "\t Val. Loss: 1.582 |  Val. Acc: 30.31% \n",
            "\n",
            "\tTrain Loss: 0.992 | Train Acc: 91.57%\n",
            "\t Val. Loss: 1.580 |  Val. Acc: 31.03% \n",
            "\n",
            "\tTrain Loss: 0.990 | Train Acc: 91.64%\n",
            "\t Val. Loss: 1.580 |  Val. Acc: 30.31% \n",
            "\n",
            "\tTrain Loss: 0.988 | Train Acc: 91.84%\n",
            "\t Val. Loss: 1.584 |  Val. Acc: 30.04% \n",
            "\n",
            "\tTrain Loss: 0.990 | Train Acc: 91.70%\n",
            "\t Val. Loss: 1.584 |  Val. Acc: 30.31% \n",
            "\n",
            "\tTrain Loss: 0.988 | Train Acc: 91.78%\n",
            "\t Val. Loss: 1.581 |  Val. Acc: 30.85% \n",
            "\n",
            "\tTrain Loss: 0.985 | Train Acc: 92.18%\n",
            "\t Val. Loss: 1.593 |  Val. Acc: 29.64% \n",
            "\n",
            "\tTrain Loss: 0.983 | Train Acc: 92.33%\n",
            "\t Val. Loss: 1.586 |  Val. Acc: 30.49% \n",
            "\n",
            "\tTrain Loss: 0.980 | Train Acc: 92.51%\n",
            "\t Val. Loss: 1.585 |  Val. Acc: 30.18% \n",
            "\n",
            "\tTrain Loss: 0.980 | Train Acc: 92.56%\n",
            "\t Val. Loss: 1.585 |  Val. Acc: 30.18% \n",
            "\n",
            "\tTrain Loss: 0.979 | Train Acc: 92.64%\n",
            "\t Val. Loss: 1.589 |  Val. Acc: 29.42% \n",
            "\n",
            "\tTrain Loss: 0.979 | Train Acc: 92.65%\n",
            "\t Val. Loss: 1.591 |  Val. Acc: 29.64% \n",
            "\n",
            "\tTrain Loss: 0.978 | Train Acc: 92.71%\n",
            "\t Val. Loss: 1.586 |  Val. Acc: 30.63% \n",
            "\n",
            "\tTrain Loss: 0.978 | Train Acc: 92.68%\n",
            "\t Val. Loss: 1.591 |  Val. Acc: 29.78% \n",
            "\n",
            "\tTrain Loss: 0.978 | Train Acc: 92.71%\n",
            "\t Val. Loss: 1.579 |  Val. Acc: 31.34% \n",
            "\n",
            "\tTrain Loss: 0.979 | Train Acc: 92.66%\n",
            "\t Val. Loss: 1.587 |  Val. Acc: 29.82% \n",
            "\n",
            "\tTrain Loss: 0.979 | Train Acc: 92.68%\n",
            "\t Val. Loss: 1.582 |  Val. Acc: 30.80% \n",
            "\n",
            "\tTrain Loss: 0.976 | Train Acc: 92.86%\n",
            "\t Val. Loss: 1.582 |  Val. Acc: 30.76% \n",
            "\n",
            "\tTrain Loss: 0.975 | Train Acc: 92.94%\n",
            "\t Val. Loss: 1.581 |  Val. Acc: 31.12% \n",
            "\n",
            "\tTrain Loss: 0.974 | Train Acc: 93.11%\n",
            "\t Val. Loss: 1.588 |  Val. Acc: 30.13% \n",
            "\n",
            "\tTrain Loss: 0.973 | Train Acc: 93.21%\n",
            "\t Val. Loss: 1.589 |  Val. Acc: 30.09% \n",
            "\n",
            "\tTrain Loss: 0.972 | Train Acc: 93.25%\n",
            "\t Val. Loss: 1.586 |  Val. Acc: 30.13% \n",
            "\n",
            "\tTrain Loss: 0.971 | Train Acc: 93.31%\n",
            "\t Val. Loss: 1.590 |  Val. Acc: 30.18% \n",
            "\n",
            "\tTrain Loss: 0.971 | Train Acc: 93.41%\n",
            "\t Val. Loss: 1.588 |  Val. Acc: 30.13% \n",
            "\n",
            "\tTrain Loss: 0.971 | Train Acc: 93.40%\n",
            "\t Val. Loss: 1.579 |  Val. Acc: 30.98% \n",
            "\n",
            "\tTrain Loss: 0.971 | Train Acc: 93.40%\n",
            "\t Val. Loss: 1.585 |  Val. Acc: 30.63% \n",
            "\n",
            "\tTrain Loss: 0.974 | Train Acc: 93.09%\n",
            "\t Val. Loss: 1.592 |  Val. Acc: 29.64% \n",
            "\n",
            "\tTrain Loss: 0.976 | Train Acc: 92.94%\n",
            "\t Val. Loss: 1.586 |  Val. Acc: 30.31% \n",
            "\n",
            "\tTrain Loss: 0.972 | Train Acc: 93.32%\n",
            "\t Val. Loss: 1.585 |  Val. Acc: 30.63% \n",
            "\n",
            "\tTrain Loss: 0.970 | Train Acc: 93.54%\n",
            "\t Val. Loss: 1.588 |  Val. Acc: 30.22% \n",
            "\n",
            "\tTrain Loss: 0.968 | Train Acc: 93.61%\n",
            "\t Val. Loss: 1.588 |  Val. Acc: 30.54% \n",
            "\n",
            "\tTrain Loss: 0.967 | Train Acc: 93.74%\n",
            "\t Val. Loss: 1.591 |  Val. Acc: 30.13% \n",
            "\n",
            "\tTrain Loss: 0.966 | Train Acc: 93.77%\n",
            "\t Val. Loss: 1.585 |  Val. Acc: 30.67% \n",
            "\n",
            "\tTrain Loss: 0.966 | Train Acc: 93.82%\n",
            "\t Val. Loss: 1.586 |  Val. Acc: 30.63% \n",
            "\n",
            "\tTrain Loss: 0.965 | Train Acc: 93.86%\n",
            "\t Val. Loss: 1.586 |  Val. Acc: 30.58% \n",
            "\n",
            "\tTrain Loss: 0.965 | Train Acc: 93.86%\n",
            "\t Val. Loss: 1.590 |  Val. Acc: 30.36% \n",
            "\n",
            "\tTrain Loss: 0.968 | Train Acc: 93.68%\n",
            "\t Val. Loss: 1.577 |  Val. Acc: 31.56% \n",
            "\n",
            "\tTrain Loss: 0.968 | Train Acc: 93.63%\n",
            "\t Val. Loss: 1.581 |  Val. Acc: 31.07% \n",
            "\n",
            "\tTrain Loss: 0.969 | Train Acc: 93.56%\n",
            "\t Val. Loss: 1.586 |  Val. Acc: 30.31% \n",
            "\n",
            "\tTrain Loss: 0.969 | Train Acc: 93.57%\n",
            "\t Val. Loss: 1.585 |  Val. Acc: 30.49% \n",
            "\n",
            "\tTrain Loss: 0.968 | Train Acc: 93.66%\n",
            "\t Val. Loss: 1.571 |  Val. Acc: 32.32% \n",
            "\n",
            "\tTrain Loss: 0.966 | Train Acc: 93.84%\n",
            "\t Val. Loss: 1.582 |  Val. Acc: 31.12% \n",
            "\n",
            "\tTrain Loss: 0.966 | Train Acc: 93.86%\n",
            "\t Val. Loss: 1.582 |  Val. Acc: 31.07% \n",
            "\n",
            "\tTrain Loss: 0.964 | Train Acc: 94.00%\n",
            "\t Val. Loss: 1.575 |  Val. Acc: 31.74% \n",
            "\n",
            "\tTrain Loss: 0.964 | Train Acc: 94.01%\n",
            "\t Val. Loss: 1.587 |  Val. Acc: 30.49% \n",
            "\n",
            "\tTrain Loss: 0.965 | Train Acc: 93.96%\n",
            "\t Val. Loss: 1.587 |  Val. Acc: 30.58% \n",
            "\n",
            "\tTrain Loss: 0.964 | Train Acc: 94.02%\n",
            "\t Val. Loss: 1.581 |  Val. Acc: 31.07% \n",
            "\n",
            "\tTrain Loss: 0.963 | Train Acc: 94.10%\n",
            "\t Val. Loss: 1.581 |  Val. Acc: 31.03% \n",
            "\n",
            "\tTrain Loss: 0.962 | Train Acc: 94.19%\n",
            "\t Val. Loss: 1.578 |  Val. Acc: 31.87% \n",
            "\n",
            "\tTrain Loss: 0.962 | Train Acc: 94.21%\n",
            "\t Val. Loss: 1.579 |  Val. Acc: 31.29% \n",
            "\n",
            "\tTrain Loss: 0.966 | Train Acc: 93.90%\n",
            "\t Val. Loss: 1.583 |  Val. Acc: 30.80% \n",
            "\n",
            "\tTrain Loss: 0.966 | Train Acc: 93.84%\n",
            "\t Val. Loss: 1.578 |  Val. Acc: 31.16% \n",
            "\n",
            "\tTrain Loss: 0.963 | Train Acc: 94.09%\n",
            "\t Val. Loss: 1.588 |  Val. Acc: 30.27% \n",
            "\n",
            "\tTrain Loss: 0.962 | Train Acc: 94.22%\n",
            "\t Val. Loss: 1.577 |  Val. Acc: 31.61% \n",
            "\n",
            "\tTrain Loss: 0.962 | Train Acc: 94.26%\n",
            "\t Val. Loss: 1.579 |  Val. Acc: 31.12% \n",
            "\n",
            "\tTrain Loss: 0.961 | Train Acc: 94.30%\n",
            "\t Val. Loss: 1.581 |  Val. Acc: 31.21% \n",
            "\n",
            "\tTrain Loss: 0.960 | Train Acc: 94.39%\n",
            "\t Val. Loss: 1.578 |  Val. Acc: 31.12% \n",
            "\n",
            "\tTrain Loss: 0.960 | Train Acc: 94.41%\n",
            "\t Val. Loss: 1.579 |  Val. Acc: 31.38% \n",
            "\n",
            "\tTrain Loss: 0.961 | Train Acc: 94.28%\n",
            "\t Val. Loss: 1.584 |  Val. Acc: 30.85% \n",
            "\n",
            "\tTrain Loss: 0.961 | Train Acc: 94.35%\n",
            "\t Val. Loss: 1.583 |  Val. Acc: 31.07% \n",
            "\n",
            "\tTrain Loss: 0.961 | Train Acc: 94.37%\n",
            "\t Val. Loss: 1.586 |  Val. Acc: 30.67% \n",
            "\n",
            "\tTrain Loss: 0.960 | Train Acc: 94.38%\n",
            "\t Val. Loss: 1.572 |  Val. Acc: 32.50% \n",
            "\n",
            "\tTrain Loss: 0.961 | Train Acc: 94.36%\n",
            "\t Val. Loss: 1.584 |  Val. Acc: 31.12% \n",
            "\n",
            "\tTrain Loss: 0.960 | Train Acc: 94.43%\n",
            "\t Val. Loss: 1.581 |  Val. Acc: 31.43% \n",
            "\n",
            "\tTrain Loss: 0.959 | Train Acc: 94.48%\n",
            "\t Val. Loss: 1.587 |  Val. Acc: 30.71% \n",
            "\n",
            "\tTrain Loss: 0.959 | Train Acc: 94.50%\n",
            "\t Val. Loss: 1.582 |  Val. Acc: 31.21% \n",
            "\n",
            "\tTrain Loss: 0.959 | Train Acc: 94.50%\n",
            "\t Val. Loss: 1.580 |  Val. Acc: 31.43% \n",
            "\n",
            "\tTrain Loss: 0.959 | Train Acc: 94.49%\n",
            "\t Val. Loss: 1.582 |  Val. Acc: 31.07% \n",
            "\n",
            "\tTrain Loss: 0.961 | Train Acc: 94.29%\n",
            "\t Val. Loss: 1.580 |  Val. Acc: 31.29% \n",
            "\n",
            "\tTrain Loss: 0.961 | Train Acc: 94.35%\n",
            "\t Val. Loss: 1.580 |  Val. Acc: 31.21% \n",
            "\n",
            "\tTrain Loss: 0.960 | Train Acc: 94.41%\n",
            "\t Val. Loss: 1.577 |  Val. Acc: 31.07% \n",
            "\n",
            "\tTrain Loss: 0.960 | Train Acc: 94.46%\n",
            "\t Val. Loss: 1.580 |  Val. Acc: 31.34% \n",
            "\n"
          ],
          "name": "stdout"
        }
      ]
    },
    {
      "cell_type": "markdown",
      "metadata": {
        "id": "LZgzB0ZkHVTI"
      },
      "source": [
        "## Model Testing"
      ]
    },
    {
      "cell_type": "code",
      "metadata": {
        "id": "aZZfnWo0abRx"
      },
      "source": [
        "#load weights and tokenizer\n",
        "\n",
        "path='./saved_weights.pt'\n",
        "model.load_state_dict(torch.load(path));\n",
        "model.eval();\n",
        "tokenizer_file = open('./tokenizer.pkl', 'rb')\n",
        "tokenizer = pickle.load(tokenizer_file)\n",
        "\n",
        "#inference \n",
        "\n",
        "import spacy\n",
        "nlp = spacy.load('en')\n",
        "\n",
        "def classify_tweet(tweet):\n",
        "    \n",
        "    categories = {0: \"Negative\", 1:\"Positive\", 2:\"Neutral\"}\n",
        "    \n",
        "    # tokenize the tweet \n",
        "    tokenized = [tok.text for tok in nlp.tokenizer(tweet)] \n",
        "    # convert to integer sequence using predefined tokenizer dictionary\n",
        "    indexed = [tokenizer[t] for t in tokenized]        \n",
        "    # compute no. of words        \n",
        "    length = [len(indexed)]\n",
        "    # convert to tensor                                    \n",
        "    tensor = torch.LongTensor(indexed).to(device)   \n",
        "    # reshape in form of batch, no. of words           \n",
        "    tensor = tensor.unsqueeze(1).T  \n",
        "    # convert to tensor                          \n",
        "    length_tensor = torch.LongTensor(length)\n",
        "    # Get the model prediction                  \n",
        "    prediction = model(tensor, length_tensor)\n",
        "\n",
        "    _, pred = torch.max(prediction, 1) \n",
        "    \n",
        "    return categories[pred.item()]"
      ],
      "execution_count": null,
      "outputs": []
    },
    {
      "cell_type": "code",
      "metadata": {
        "id": "yTkHLEipIlM9",
        "colab": {
          "base_uri": "https://localhost:8080/",
          "height": 35
        },
        "outputId": "08f237d8-fbba-4205-f9fe-3188fdd6561d"
      },
      "source": [
        "classify_tweet(\"A valid explanation for why Trump won't let women on the golf course.\")"
      ],
      "execution_count": null,
      "outputs": [
        {
          "output_type": "execute_result",
          "data": {
            "application/vnd.google.colaboratory.intrinsic+json": {
              "type": "string"
            },
            "text/plain": [
              "'Negative'"
            ]
          },
          "metadata": {
            "tags": []
          },
          "execution_count": 27
        }
      ]
    },
    {
      "cell_type": "markdown",
      "metadata": {
        "id": "WVjCuKK_LVEF"
      },
      "source": [
        "## Discussion on Data Augmentation Techniques \n",
        "\n",
        "You might wonder exactly how you can augment text data. After all, you can’t really flip it horizontally as you can an image! :D \n",
        "\n",
        "In contrast to data augmentation in images, augmentation techniques on data is very specific to final product you are building. As its general usage on any type of textual data doesn't provides a significant performance boost, that's why unlike torchvision, torchtext doesn’t offer a augmentation pipeline. Due to powerful models as transformers, augmentation tecnhiques are not so preferred now-a-days. But its better to know about some techniques with text that will provide your model with a little more information for training. \n",
        "\n",
        "### Synonym Replacement\n",
        "\n",
        "First, you could replace words in the sentence with synonyms, like so:\n",
        "\n",
        "    The dog slept on the mat\n",
        "\n",
        "could become\n",
        "\n",
        "    The dog slept on the rug\n",
        "\n",
        "Aside from the dog's insistence that a rug is much softer than a mat, the meaning of the sentence hasn’t changed. But mat and rug will be mapped to different indices in the vocabulary, so the model will learn that the two sentences map to the same label, and hopefully that there’s a connection between those two words, as everything else in the sentences is the same."
      ]
    },
    {
      "cell_type": "markdown",
      "metadata": {
        "id": "T_uEfWJpL6Nq"
      },
      "source": [
        "### Random Insertion\n",
        "A random insertion technique looks at a sentence and then randomly inserts synonyms of existing non-stopwords into the sentence n times. Assuming you have a way of getting a synonym of a word and a way of eliminating stopwords (common words such as and, it, the, etc.), shown, but not implemented, in this function via get_synonyms() and get_stopwords(), an implementation of this would be as follows:\n"
      ]
    },
    {
      "cell_type": "code",
      "metadata": {
        "id": "7Alm5D7WIvAC"
      },
      "source": [
        "def random_insertion(sentence, n = 2): \n",
        "    sentence = sentence.split()\n",
        "    words = remove_stopwords(sentence) \n",
        "    for _ in range(n):\n",
        "        new_synonym = get_synonyms(random.choice(words))\n",
        "        sentence.insert(randrange(len(sentence)+1), new_synonym) \n",
        "    return ' '.join(sentence)"
      ],
      "execution_count": null,
      "outputs": []
    },
    {
      "cell_type": "markdown",
      "metadata": {
        "id": "gqLWzwJ3Mm8h"
      },
      "source": [
        "## Random Deletion\n",
        "As the name suggests, random deletion deletes words from a sentence. Given a probability parameter p, it will go through the sentence and decide whether to delete a word or not based on that random probability. Consider of it as pixel dropouts while treating images."
      ]
    },
    {
      "cell_type": "code",
      "metadata": {
        "id": "-7Dz7JJfMqyC"
      },
      "source": [
        "def random_deletion(sentence, p=0.5): \n",
        "    words = sentence.split()\n",
        "    if len(words) == 1: # return if single word\n",
        "        return words\n",
        "    remaining = list(filter(lambda x: random.uniform(0,1) > p,words)) \n",
        "    if len(remaining) == 0: # if not left, sample a random word\n",
        "        return ' '.join([random.choice(words)])\n",
        "    else:\n",
        "        return ' '.join(remaining)"
      ],
      "execution_count": null,
      "outputs": []
    },
    {
      "cell_type": "markdown",
      "metadata": {
        "id": "zOIbi5WzO5OU"
      },
      "source": [
        "### Random Swap\n",
        "The random swap augmentation takes a sentence and then swaps words within it n times, with each iteration working on the previously swapped sentence. Here we sample two random numbers based on the length of the sentence, and then just keep swapping until we hit n."
      ]
    },
    {
      "cell_type": "code",
      "metadata": {
        "id": "LnkbG15HO3Yj"
      },
      "source": [
        "def random_swap(sentence, n=3):\n",
        "    words = sentence.split()\n",
        "    length = range(len(words)) \n",
        "    for _ in range(n):\n",
        "        idx1, idx2 = random.sample(length, 2)\n",
        "        words[idx1], words[idx2] = words[idx2], words[idx1] \n",
        "    return ' '.join(words)"
      ],
      "execution_count": null,
      "outputs": []
    },
    {
      "cell_type": "markdown",
      "metadata": {
        "id": "599NpwfMR5Vm"
      },
      "source": [
        "For more on this please go through this [paper](https://arxiv.org/pdf/1901.11196.pdf)."
      ]
    },
    {
      "cell_type": "markdown",
      "metadata": {
        "id": "a5aeKuNCRGip"
      },
      "source": [
        "### Back Translation\n",
        "\n",
        "Another popular approach for augmenting text datasets is back translation. This involves translating a sentence from our target language into one or more other languages and then translating all of them back to the original language. We can use the Python library googletrans for this purpose. "
      ]
    },
    {
      "cell_type": "code",
      "metadata": {
        "id": "GyT_MYtSWseB"
      },
      "source": [
        "!pip install googletrans"
      ],
      "execution_count": null,
      "outputs": []
    },
    {
      "cell_type": "code",
      "metadata": {
        "id": "pHhNBbYrRXNy",
        "colab": {
          "base_uri": "https://localhost:8080/"
        },
        "outputId": "aedaac5c-489f-490e-c477-005db37a518b"
      },
      "source": [
        "import random\n",
        "import googletrans\n",
        "from  googletrans import Translator\n",
        "\n",
        "translator = Translator()\n",
        "sentence = [ 'The dog slept on the rug']\n",
        "\n",
        "available_langs = list(googletrans.LANGUAGES.keys()) \n",
        "trans_lang = random.choice(available_langs) \n",
        "print(f\"Translating to {googletrans.LANGUAGES[trans_lang]}\")\n",
        "\n",
        "translations = translator.translate(sentence, dest=trans_lang) \n",
        "t_text = [t.text for t in translations]\n",
        "print(t_text)\n",
        "\n",
        "translations_en_random = translator.translate(t_text, src=trans_lang, dest='en') \n",
        "en_text = [t.text for t in translations_en_random]\n",
        "print(en_text)"
      ],
      "execution_count": 38,
      "outputs": [
        {
          "output_type": "stream",
          "text": [
            "Translating to pashto\n",
            "['The dog slept on the rug']\n",
            "['The dog slept on the rug']\n"
          ],
          "name": "stdout"
        }
      ]
    },
    {
      "cell_type": "code",
      "metadata": {
        "colab": {
          "base_uri": "https://localhost:8080/",
          "height": 35
        },
        "id": "gFx2W_fUYJKx",
        "outputId": "04c6f215-76a1-47fe-dac7-dac6f301dd94"
      },
      "source": [
        "s = 'The dog slept on the rug'\r\n",
        "back_translate(s)"
      ],
      "execution_count": 21,
      "outputs": [
        {
          "output_type": "execute_result",
          "data": {
            "application/vnd.google.colaboratory.intrinsic+json": {
              "type": "string"
            },
            "text/plain": [
              "'The dog slept on the rug'"
            ]
          },
          "metadata": {
            "tags": []
          },
          "execution_count": 21
        }
      ]
    }
  ]
}