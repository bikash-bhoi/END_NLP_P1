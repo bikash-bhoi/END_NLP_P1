{
  "nbformat": 4,
  "nbformat_minor": 0,
  "metadata": {
    "colab": {
      "name": "ENDP1S3.ipynb",
      "provenance": [],
      "collapsed_sections": [],
      "authorship_tag": "ABX9TyOMev38JR+Nhsa6r4zCBTg1",
      "include_colab_link": true
    },
    "kernelspec": {
      "name": "python3",
      "display_name": "Python 3"
    }
  },
  "cells": [
    {
      "cell_type": "markdown",
      "metadata": {
        "id": "view-in-github",
        "colab_type": "text"
      },
      "source": [
        "<a href=\"https://colab.research.google.com/github/bikash-bhoi/END_NLP_P1/blob/main/Session3/ENDP1S3.ipynb\" target=\"_parent\"><img src=\"https://colab.research.google.com/assets/colab-badge.svg\" alt=\"Open In Colab\"/></a>"
      ]
    },
    {
      "cell_type": "markdown",
      "metadata": {
        "id": "Wi-JM6QJAlwI"
      },
      "source": [
        "### 1. Write a function using only list filter lambda that can tell whether a number is a Fibonacci number or not. You can use a pre-calculated list/dict to store fab numbers till 10000 PTS:100"
      ]
    },
    {
      "cell_type": "code",
      "metadata": {
        "id": "pGkPFTnGATm7",
        "outputId": "a249c63f-3840-4261-d36e-4d50067d6b9c",
        "colab": {
          "base_uri": "https://localhost:8080/"
        }
      },
      "source": [
        "fib = [0,1]\n",
        "while fib[-1] + fib[-2]<10000:\n",
        "    fib.append(fib[-1] + fib[-2])\n",
        "\n",
        "check_fib_10000 = lambda x: f'{x} is a Fibonacci Number' if x in fib else f'{x} is Not Fibonacci Number'\n",
        "\n",
        "print(check_fib_10000(8))\n",
        "print(check_fib_10000(9))"
      ],
      "execution_count": 171,
      "outputs": [
        {
          "output_type": "stream",
          "text": [
            "8 is a Fibonacci Number\n",
            "9 is Not Fibonacci Number\n"
          ],
          "name": "stdout"
        }
      ]
    },
    {
      "cell_type": "markdown",
      "metadata": {
        "id": "uYAMjvP1Ez5D"
      },
      "source": [
        "## 2. Using list comprehension (and zip/lambda/etc if required) write five different expressions that: PTS:100\n",
        "#### a. add 2 iterables a and b such that a is even and b is odd\n",
        "#### b. strips every vowel from a string provided (tsai>>t s)\n",
        "#### c. acts like a ReLU function for a 1D array\n",
        "#### d. acts like a sigmoid function for a 1D array\n",
        "#### e. takes a small character string and shifts all characters by 5 (handle boundary conditions) tsai>>yxfn"
      ]
    },
    {
      "cell_type": "code",
      "metadata": {
        "id": "LrhzRJM_EzHG",
        "outputId": "ba4df0a0-5807-4cae-f21a-63a361d936a5",
        "colab": {
          "base_uri": "https://localhost:8080/",
          "height": 290
        }
      },
      "source": [
        "import math\n",
        "print('\\n# a : Add 2 iterables')\n",
        "a = [i for i in range(10) if i%2 == 0]  \n",
        "b = [i for i in range(10) if i%2 != 0]\n",
        "print([x + y for x, y in zip(a,b)])\n",
        "\n",
        "print('\\n# b : strip vowels')\n",
        "str1 = 'tsai'\n",
        "print(''.join([i for i in str1 if i.lower() not in ('a','e','i','o','u')]))\n",
        "\n",
        "print('\\n# c : ReLU of a List')\n",
        "arr = [1, 4 , -6, 0, 7 , -8]\n",
        "print([i if i>0 else 0 for i in arr])\n",
        "\n",
        "print('\\n# d : Sigmoid of a List')\n",
        "arr = [1, 4 , -6, 0, 7 , -8]\n",
        "print([1 / (1 + math.exp(-x)) for x in arr])\n",
        "\n",
        "print('\\n# e :  Cyclic Shift characters in a string')\n",
        "str2 = 'tsaivwxyz'\n",
        "''.join([chr(ord(x)+5) if ord(x)+5 <= ord('z') else chr(ord(x)+5-26) for x in str2])"
      ],
      "execution_count": 172,
      "outputs": [
        {
          "output_type": "stream",
          "text": [
            "\n",
            "# a : Add 2 iterables\n",
            "[1, 5, 9, 13, 17]\n",
            "\n",
            "# b : strip vowels\n",
            "ts\n",
            "\n",
            "# c : ReLU of a List\n",
            "[1, 4, 0, 0, 7, 0]\n",
            "\n",
            "# d : Sigmoid of a List\n",
            "[0.7310585786300049, 0.9820137900379085, 0.0024726231566347743, 0.5, 0.9990889488055994, 0.0003353501304664781]\n",
            "\n",
            "# e :  Cyclic Shift characters in a string\n"
          ],
          "name": "stdout"
        },
        {
          "output_type": "execute_result",
          "data": {
            "application/vnd.google.colaboratory.intrinsic+json": {
              "type": "string"
            },
            "text/plain": [
              "'yxfnabcde'"
            ]
          },
          "metadata": {
            "tags": []
          },
          "execution_count": 172
        }
      ]
    },
    {
      "cell_type": "markdown",
      "metadata": {
        "id": "wk8mAvqkLZKh"
      },
      "source": [
        "## 3. A list comprehension expression that takes a ~200 word paragraph (write your own paragraph to check), and checks whether it has any of the swear words mentioned in https://github.com/RobertJGabriel/Google-profanity-words/blob/master/list.txt PTS:200"
      ]
    },
    {
      "cell_type": "code",
      "metadata": {
        "id": "VUCyMGRmLYa0",
        "outputId": "8cdab822-2f88-4580-cbcc-25b7d9228b7a",
        "colab": {
          "base_uri": "https://localhost:8080/"
        }
      },
      "source": [
        "import requests\n",
        "import base64\n",
        "url = 'https://raw.githubusercontent.com/RobertJGabriel/Google-profanity-words/master/list.txt'\n",
        "res = requests.get(url)\n",
        "#base64.decodestring(res.content)\n",
        "res1 = res.content.decode(\"utf-8\")\n",
        "profanity_words = res1.split(sep='\\n')\n",
        "\n",
        "paragraph = 'Last night I as watching a ass kicking movie and it was about a new technology that is the real upcoming shit'\n",
        "\n",
        "print('\\n#### Boolean Output ####')\n",
        "print(any([True if word.lower() in profanity_words else False for word in paragraph.split()]))\n",
        "\n",
        "\n",
        "print('\\n#### Detail Output ####')\n",
        "swear_words = [word for word in paragraph.split() if word.lower() in profanity_words]\n",
        "\n",
        "if len(swear_words) == 0:\n",
        "    print('No Swear Words')\n",
        "else:\n",
        "    print('Swear words found :', swear_words)"
      ],
      "execution_count": 173,
      "outputs": [
        {
          "output_type": "stream",
          "text": [
            "\n",
            "#### Boolean Output ####\n",
            "True\n",
            "\n",
            "#### Detail Output ####\n",
            "Swear words found : ['ass', 'shit']\n"
          ],
          "name": "stdout"
        }
      ]
    },
    {
      "cell_type": "markdown",
      "metadata": {
        "id": "MdKB6kN3djnT"
      },
      "source": [
        "## 4. Using reduce functions: PTS:100\n",
        "#### a. add only even numbers in a list\n",
        "#### b. find the biggest character in a string (printable ascii characters)\n",
        "#### c. adds every 3rd number in a list\n"
      ]
    },
    {
      "cell_type": "code",
      "metadata": {
        "id": "ahiQ0Z-6djS9",
        "outputId": "c197b75c-ff4b-436e-d8e5-ce311eb413d1",
        "colab": {
          "base_uri": "https://localhost:8080/"
        }
      },
      "source": [
        "from functools import reduce\n",
        "\n",
        "print('\\n# a: add only even numbers in a list')\n",
        "ls = list(range(1,100))\n",
        "print(reduce(lambda a,b : a + b , filter(lambda x : x%2 == 0, ls)))\n",
        "\n",
        "print('\\n# b: find the biggest character in a string')\n",
        "st = 'tsai'\n",
        "print(reduce(lambda a,b : a if ord(a)>ord(b) else b, st))\n",
        "\n",
        "print('\\n# c: adds every 3rd number in a list')\n",
        "ls2 = list(range(1,100))\n",
        "print(reduce(lambda a,b : a + b , [ls2[i] for i in range(len(ls2)) if (i+1)%3 == 0 ]))"
      ],
      "execution_count": 174,
      "outputs": [
        {
          "output_type": "stream",
          "text": [
            "\n",
            "# a: add only even numbers in a list\n",
            "2450\n",
            "\n",
            "# b: find the biggest character in a string\n",
            "t\n",
            "\n",
            "# c: adds every 3rd number in a list\n",
            "1683\n"
          ],
          "name": "stdout"
        }
      ]
    },
    {
      "cell_type": "markdown",
      "metadata": {
        "id": "dJZtTUviljJf"
      },
      "source": [
        "## 5. Using randint, random.choice and list comprehensions, write an expression that generates 15 random KADDAADDDD number plates, where KA is fixed, D stands for a digit, and A stands for Capital alphabets. 10<<DD<<99 & 1000<<DDDD<<9999 PTS:100"
      ]
    },
    {
      "cell_type": "code",
      "metadata": {
        "id": "jC9ojBcvfYgV",
        "outputId": "90ae6df7-2727-4589-ed8a-cad8fb462e16",
        "colab": {
          "base_uri": "https://localhost:8080/"
        }
      },
      "source": [
        "import random\n",
        "alphabets = list(map(chr, range(65,91)))\n",
        "alpha_2 = [i+j for i in alphabets for j in alphabets]\n",
        "[f'KA{random.randint(10,99)}{random.choice(alpha_2)}{random.randint(1000,9999)}' for i in range(15)]\n"
      ],
      "execution_count": 175,
      "outputs": [
        {
          "output_type": "execute_result",
          "data": {
            "text/plain": [
              "['KA85GB2910',\n",
              " 'KA72TM2568',\n",
              " 'KA30QQ7323',\n",
              " 'KA95KW1465',\n",
              " 'KA44FG1015',\n",
              " 'KA22PA2752',\n",
              " 'KA42MB8519',\n",
              " 'KA97UL1305',\n",
              " 'KA23WG4964',\n",
              " 'KA16LC2033',\n",
              " 'KA54YP1001',\n",
              " 'KA94KE2024',\n",
              " 'KA46MT1073',\n",
              " 'KA19QH4712',\n",
              " 'KA76KT4266']"
            ]
          },
          "metadata": {
            "tags": []
          },
          "execution_count": 175
        }
      ]
    },
    {
      "cell_type": "markdown",
      "metadata": {
        "id": "EPm7cE9_owb-"
      },
      "source": [
        "## 6. Write the above again from scratch where KA can be changed to DL, and 1000/9999 ranges can be provided."
      ]
    },
    {
      "cell_type": "code",
      "metadata": {
        "id": "UsbSC7xwmzFn",
        "outputId": "d8812faa-59f2-488d-89c2-a7ffd001eb82",
        "colab": {
          "base_uri": "https://localhost:8080/"
        }
      },
      "source": [
        "import random\n",
        "\n",
        "STATE = 'DL'  \n",
        "DDDD_START = 5  ## Must be > 0\n",
        "DDDD_END = 985  ## Must be <= 9999 \n",
        "\n",
        "alphabets = list(map(chr, range(65,91)))\n",
        "alpha_2 = [i+j for i in alphabets for j in alphabets]\n",
        "[f'{STATE}{random.randint(10,99)}{random.choice(alpha_2)}{str(random.randint(DDDD_START,DDDD_END)).zfill(4)}' for i in range(15)]"
      ],
      "execution_count": 176,
      "outputs": [
        {
          "output_type": "execute_result",
          "data": {
            "text/plain": [
              "['DL56WJ0321',\n",
              " 'DL13HK0048',\n",
              " 'DL11CU0092',\n",
              " 'DL24EL0598',\n",
              " 'DL44DY0174',\n",
              " 'DL94VL0641',\n",
              " 'DL74VC0694',\n",
              " 'DL28JO0573',\n",
              " 'DL76OU0460',\n",
              " 'DL14ZE0985',\n",
              " 'DL95PX0718',\n",
              " 'DL39NH0195',\n",
              " 'DL80MF0138',\n",
              " 'DL60BA0782',\n",
              " 'DL67UZ0975']"
            ]
          },
          "metadata": {
            "tags": []
          },
          "execution_count": 176
        }
      ]
    }
  ]
}